{
 "cells": [
  {
   "cell_type": "markdown",
   "id": "c6b5250c-00e0-4f22-b904-ede28e1b7840",
   "metadata": {},
   "source": [
    "# Aim of the script"
   ]
  },
  {
   "cell_type": "markdown",
   "id": "5ecf6de2-3a24-4415-b84c-02b7c1c0ed83",
   "metadata": {},
   "source": [
    "In this script, all the reads comming from the cutadapt steps are processed in order to generate tables linking the different cells to their enhancer. <br>\n",
    "- First, it converts fastq reads to pandas dataframe.\n",
    "- Second, it removes all rows with a different enhancer barcode than the true one. Plus it removes the rows with a different cell barcode to the ones found in the selected clustering version.\n",
    "- Third, it computes for each cell barcode the different enhancer barcodes found and their respective frequency.\n",
    "- Last, it elects the enhancer for each cells based on this frequency. <br>\n",
    "\n",
    "Because it is quite heavy to run, a shortcut to reload the processed dataframes is present in the script after step 1\n",
    "\n",
    "The input files are stored in the **cutadapt_output** folder. <br> \n",
    "As this script can generate tables for either full or reduced version of the clustering, and as you can work with either all three replicates merged or individually, the output are stored in different clusters."
   ]
  },
  {
   "cell_type": "markdown",
   "id": "c7a5f7f0-1080-42e4-a52d-67910ee5fbad",
   "metadata": {},
   "source": [
    "## Loading packages"
   ]
  },
  {
   "cell_type": "code",
   "execution_count": 1,
   "id": "da62a27a-5fc2-4625-aa3c-0a59109253eb",
   "metadata": {},
   "outputs": [],
   "source": [
    "from collections import Counter\n",
    "import collections\n",
    "from Bio import SeqIO\n",
    "from Bio import AlignIO\n",
    "from Bio import Align\n",
    "import pandas\n",
    "import numpy\n",
    "import matplotlib.pyplot as plt\n",
    "import csv"
   ]
  },
  {
   "cell_type": "markdown",
   "id": "b0e5b898-871c-4e14-9299-d7a00b4eb849",
   "metadata": {},
   "source": [
    "## Loading cells and enhacers dictionaries"
   ]
  },
  {
   "cell_type": "markdown",
   "id": "a7f294dc-613d-4008-963e-9623e4a96ad6",
   "metadata": {},
   "source": [
    "**dico_enhancers** is a table containing the 25 true enhancer barcodes. <br>\n",
    "**dico_cells** are tables containing the cell barcodes present after the seurat analysis. Either with the full or the reduced clustering."
   ]
  },
  {
   "cell_type": "code",
   "execution_count": 2,
   "id": "75e67ab3-3a97-4152-9562-8950520dd00b",
   "metadata": {},
   "outputs": [],
   "source": [
    "dico_enhancers=pandas.read_csv(\"dico_enhancers_python.tsv\",sep=\"\\t\",header=None, names=[\"noms\",\"seq\"])\n",
    "dico_cells_full=pandas.read_csv(\"../R_analyses/id_cells_6_int_full_clusters.csv\")\n",
    "dico_cells_reduced=pandas.read_csv(\"../R_analyses/id_cells_6_int_reduced_clusters.csv\")"
   ]
  },
  {
   "cell_type": "markdown",
   "id": "57b1d54e-73b9-4051-8864-7587d565507e",
   "metadata": {},
   "source": [
    "## Step1 - Converting fastq reads to pandas dataframe"
   ]
  },
  {
   "cell_type": "code",
   "execution_count": 3,
   "id": "8ab145c0-7d98-446b-b07c-ca70a9596c34",
   "metadata": {},
   "outputs": [],
   "source": [
    "id=[]\n",
    "seq=[]\n",
    "for record1 in SeqIO.parse(\"../data/cutadapt_output/trimming_libS6.1/E_BC.fastq\", \"fastq\"):\n",
    "    id.append(record1.id)\n",
    "    seq.append(str(record1.seq))\n",
    "df_id_enhancer=pandas.DataFrame({'id':id,'enhancer_BC':seq})\n",
    "df_id_enhancer.to_csv('preprocessed_tables/DF_reads_ID_enhancer_6_1.tsv',sep='\\t',index=False)"
   ]
  },
  {
   "cell_type": "code",
   "execution_count": 4,
   "id": "71e96e9a-b2d8-4bd7-9af4-bb7ed4c8efc7",
   "metadata": {},
   "outputs": [],
   "source": [
    "id=[]\n",
    "seq=[]\n",
    "for record1 in SeqIO.parse(\"../data/cutadapt_output/trimming_libS6.2/E_BC.fastq\", \"fastq\"):\n",
    "    id.append(record1.id)\n",
    "    seq.append(str(record1.seq))\n",
    "df_id_enhancer=pandas.DataFrame({'id':id,'enhancer_BC':seq})\n",
    "df_id_enhancer.to_csv('preprocessed_tables/DF_reads_ID_enhancer_6_2.tsv',sep='\\t',index=False)"
   ]
  },
  {
   "cell_type": "code",
   "execution_count": 8,
   "id": "f28ec0cd-eea0-4a96-b68e-51cf44476f31",
   "metadata": {},
   "outputs": [],
   "source": [
    "id=[]\n",
    "seq=[]\n",
    "for record1 in SeqIO.parse(\"../data/cutadapt_output/trimming_libS6.3/E_BC.fastq\", \"fastq\"):\n",
    "    id.append(record1.id)\n",
    "    seq.append(str(record1.seq))\n",
    "df_id_enhancer=pandas.DataFrame({'id':id,'enhancer_BC':seq})\n",
    "df_id_enhancer.to_csv('preprocessed_tables/DF_reads_ID_enhancer_6_3.tsv',sep='\\t',index=False)"
   ]
  },
  {
   "cell_type": "code",
   "execution_count": 6,
   "id": "e9fd39c6-8ebc-4918-a15e-d98c92e0024a",
   "metadata": {},
   "outputs": [],
   "source": [
    "id=[]\n",
    "cell=[]\n",
    "UMI=[]\n",
    "for record2 in SeqIO.parse(\"../data/cutadapt_output/trimming_libS6.1/C_BC.fastq\", \"fastq\"):\n",
    "    id.append(record2.id)\n",
    "    seq=str(record2.seq)\n",
    "    cell.append(\"rep1_\"+seq[:16])\n",
    "    UMI.append(seq[16:])\n",
    "df_id_cell_umi=pandas.DataFrame({'id':id,'cell_BC':cell,'UMI':UMI})\n",
    "df_id_cell_umi.to_csv('preprocessed_tables/DF_reads_ID_cell_UMI_6_1.tsv',sep=\"\\t\", index=False)"
   ]
  },
  {
   "cell_type": "code",
   "execution_count": 7,
   "id": "16298ea0-0969-4254-9d1a-408b89bb92bb",
   "metadata": {},
   "outputs": [],
   "source": [
    "id=[]\n",
    "cell=[]\n",
    "UMI=[]\n",
    "for record2 in SeqIO.parse(\"../data/cutadapt_output/trimming_libS6.2/C_BC.fastq\", \"fastq\"):\n",
    "    id.append(record2.id)\n",
    "    seq=str(record2.seq)\n",
    "    cell.append(\"rep2_\"+seq[:16])\n",
    "    UMI.append(seq[16:])\n",
    "df_id_cell_umi=pandas.DataFrame({'id':id,'cell_BC':cell,'UMI':UMI})\n",
    "df_id_cell_umi.to_csv('preprocessed_tables/DF_reads_ID_cell_UMI_6_2.tsv',sep=\"\\t\", index=False)"
   ]
  },
  {
   "cell_type": "code",
   "execution_count": 9,
   "id": "e5a5532e-7217-4ff0-bb31-0392c992c767",
   "metadata": {},
   "outputs": [],
   "source": [
    "id=[]\n",
    "cell=[]\n",
    "UMI=[]\n",
    "for record2 in SeqIO.parse(\"../data/cutadapt_output/trimming_libS6.3/C_BC.fastq\", \"fastq\"):\n",
    "    id.append(record2.id)\n",
    "    seq=str(record2.seq)\n",
    "    cell.append(\"rep3_\"+seq[:16])\n",
    "    UMI.append(seq[16:])\n",
    "df_id_cell_umi=pandas.DataFrame({'id':id,'cell_BC':cell,'UMI':UMI})\n",
    "df_id_cell_umi.to_csv('preprocessed_tables/DF_reads_ID_cell_UMI_6_3.tsv',sep=\"\\t\", index=False)"
   ]
  },
  {
   "cell_type": "markdown",
   "id": "648dde87-98c0-48c8-9ca5-dbe2ed86b8ce",
   "metadata": {},
   "source": [
    "### Shortcut 1"
   ]
  },
  {
   "cell_type": "code",
   "execution_count": 10,
   "id": "025c3bee-1dab-433f-bdfb-701448fc4825",
   "metadata": {},
   "outputs": [],
   "source": [
    "df_id_enhancer_6_1=pandas.read_csv('preprocessed_tables/DF_reads_ID_enhancer_6_1.tsv',sep='\\t')\n",
    "df_id_cell_umi_6_1=pandas.read_csv('preprocessed_tables/DF_reads_ID_cell_UMI_6_1.tsv',sep='\\t')\n",
    "df_id_enhancer_6_2=pandas.read_csv('preprocessed_tables/DF_reads_ID_enhancer_6_2.tsv',sep='\\t')\n",
    "df_id_cell_umi_6_2=pandas.read_csv('preprocessed_tables/DF_reads_ID_cell_UMI_6_2.tsv',sep='\\t')\n",
    "df_id_enhancer_6_3=pandas.read_csv('preprocessed_tables/DF_reads_ID_enhancer_6_3.tsv',sep='\\t')\n",
    "df_id_cell_umi_6_3=pandas.read_csv('preprocessed_tables/DF_reads_ID_cell_UMI_6_3.tsv',sep='\\t')"
   ]
  },
  {
   "cell_type": "markdown",
   "id": "47b3181f-c93d-4c31-aa21-f49ddb652850",
   "metadata": {},
   "source": [
    "## Step 2 - removing rows based on known cells and enhancer barcodes"
   ]
  },
  {
   "cell_type": "code",
   "execution_count": 11,
   "id": "f897c10b-b4a1-48f1-b308-8f954c7766d6",
   "metadata": {},
   "outputs": [],
   "source": [
    "df_id_enhancer_cell_umi_6_1=pandas.merge(df_id_enhancer_6_1,df_id_cell_umi_6_1,on='id')\n",
    "df_id_enhancer_cell_umi_6_2=pandas.merge(df_id_enhancer_6_2,df_id_cell_umi_6_2,on='id')\n",
    "df_id_enhancer_cell_umi_6_3=pandas.merge(df_id_enhancer_6_3,df_id_cell_umi_6_3,on='id')"
   ]
  },
  {
   "cell_type": "markdown",
   "id": "e116ef58-80db-4836-badb-e53025423ba5",
   "metadata": {},
   "source": [
    "Removing the rows with a wrong enhancer barcode"
   ]
  },
  {
   "cell_type": "code",
   "execution_count": null,
   "id": "34f74f32-aec7-4550-a796-672a9b3c8c87",
   "metadata": {},
   "outputs": [],
   "source": [
    "df_id_enhancer_cell_umi_6_1=df_id_enhancer_cell_umi_6_1[df_id_enhancer_cell_umi_6_1['enhancer_BC'].isin(dico_enhancers['seq'])]\n",
    "df_id_enhancer_cell_umi_6_2=df_id_enhancer_cell_umi_6_2[df_id_enhancer_cell_umi_6_2['enhancer_BC'].isin(dico_enhancers['seq'])]\n",
    "df_id_enhancer_cell_umi_6_3=df_id_enhancer_cell_umi_6_3[df_id_enhancer_cell_umi_6_3['enhancer_BC'].isin(dico_enhancers['seq'])]"
   ]
  },
  {
   "cell_type": "markdown",
   "id": "cf14be4f-9121-4bd9-9170-0a55bc223210",
   "metadata": {},
   "source": [
    "Removing the rows with a cell barcode not found in the seurat analysis. Here you can select if you are working on the full or reduced clustering"
   ]
  },
  {
   "cell_type": "code",
   "execution_count": null,
   "id": "181d2434-17be-4c78-8ef1-2ac63b269180",
   "metadata": {},
   "outputs": [],
   "source": [
    "df_id_enhancer_cell_umi_sc_cells_6_1_full=df_id_enhancer_cell_umi_6_1[df_id_enhancer_cell_umi_6_1['cell_BC'].isin(dico_cells_full[\"x\"].tolist())]\n",
    "df_id_enhancer_cell_umi_sc_cells_6_2_full=df_id_enhancer_cell_umi_6_2[df_id_enhancer_cell_umi_6_2['cell_BC'].isin(dico_cells_full[\"x\"].tolist())]\n",
    "df_id_enhancer_cell_umi_sc_cells_6_3_full=df_id_enhancer_cell_umi_6_3[df_id_enhancer_cell_umi_6_3['cell_BC'].isin(dico_cells_full[\"x\"].tolist())]"
   ]
  },
  {
   "cell_type": "code",
   "execution_count": null,
   "id": "cd0037f2-33b0-4d7d-91c4-dcea6a6bb46a",
   "metadata": {},
   "outputs": [],
   "source": [
    "df_id_enhancer_cell_umi_sc_cells_6_1_reduced=df_id_enhancer_cell_umi_6_1[df_id_enhancer_cell_umi_6_1['cell_BC'].isin(dico_cells_reduced[\"x\"].tolist())]\n",
    "df_id_enhancer_cell_umi_sc_cells_6_2_reduced=df_id_enhancer_cell_umi_6_2[df_id_enhancer_cell_umi_6_2['cell_BC'].isin(dico_cells_reduced[\"x\"].tolist())]\n",
    "df_id_enhancer_cell_umi_sc_cells_6_3_reduced=df_id_enhancer_cell_umi_6_3[df_id_enhancer_cell_umi_6_3['cell_BC'].isin(dico_cells_reduced[\"x\"].tolist())]"
   ]
  },
  {
   "cell_type": "markdown",
   "id": "93c0cba6-9005-4389-9804-650a7ca5ca95",
   "metadata": {},
   "source": [
    "## Step 3 - Listing the enhancer barcodes found for each cells"
   ]
  },
  {
   "cell_type": "markdown",
   "id": "9a92d11a-a36b-4d3b-ada1-d00df960e398",
   "metadata": {},
   "source": [
    "For this function you have to select both the selected seurat clustering version (full/reduced) and how to process the samples (individual/merged). <br>\n",
    "The function will then generates a table recapitalting enhancer information for each cell barcode."
   ]
  },
  {
   "cell_type": "code",
   "execution_count": null,
   "id": "11e8d49d-f572-4759-836f-3aea88bf11ec",
   "metadata": {},
   "outputs": [],
   "source": [
    "def step3(seurat_clustering_version=\"full\",library_processing=\"individual\"):\n",
    "    if library_processing==\"individual\" & seurat_clustering_version==\"full\":\n",
    "        list_obj=[df_id_enhancer_cell_umi_sc_cells_6_1_full,df_id_enhancer_cell_umi_sc_cells_6_2_full,df_id_enhancer_cell_umi_sc_cells_6_3_full]\n",
    "    elif library_processing==\"merged\" & seurat_clustering_version==\"full\":\n",
    "        list_obj=[pandas.concat([df_id_enhancer_cell_umi_6_1_full,df_id_enhancer_cell_umi_6_2_full,df_id_enhancer_cell_umi_6_3_full])]\n",
    "    elif library_processing==\"individual\" & seurat_clustering_version==\"reduced\":\n",
    "        list_obj=[df_id_enhancer_cell_umi_sc_cells_6_1_reduced,df_id_enhancer_cell_umi_sc_cells_6_2_reduced,df_id_enhancer_cell_umi_sc_cells_6_3_reduced]\n",
    "    elif library_processing==\"merged\" & seurat_clustering_version==\"reduced\":\n",
    "        list_obj=[pandas.concat([df_id_enhancer_cell_umi_sc_cells_6_1_reduced,df_id_enhancer_cell_umi_sc_cells_6_2_reduced,df_id_enhancer_cell_umi_sc_cells_6_3_reduced])]\n",
    "    j=1\n",
    "    for object in list_obj:\n",
    "        df_cell_enhancer_freq=pandas.DataFrame(columns=['cell_BC','list_enhancer_BC','nb_enhancer_BC','1st_enhancer_BC','freq_1st_enhancer_BC','2nd_enhancer_BC','freq_2nd_enhancer_BC'])\n",
    "        i=0\n",
    "        for cell_BC in object['cell_BC'].unique():\n",
    "            i=i+1\n",
    "            freq_seq_enhancers=Counter(object['enhancer_BC'][object['cell_BC']==cell_BC])\n",
    "            nb=len(freq_seq_enhancers)\n",
    "            sorted_freq_seq = sorted(freq_seq_enhancers.items(), key=lambda x:x[1])\n",
    "            if nb==0:\n",
    "                continue\n",
    "            elif nb == 1 & sorted_freq_seq[0][1]>5:\n",
    "                list_enhancer_bc=freq_seq_enhancers.keys()\n",
    "                first_elem=sorted_freq_seq[0]\n",
    "                df_cell_enhancer_freq.loc[len(df_cell_enhancer_freq)]=[cell_BC,list_enhancer_bc,nb,first_elem[0],first_elem[1],\"null\",0]\n",
    "            elif nb>=2:\n",
    "                list_enhancer_bc=freq_seq_enhancers.keys()\n",
    "                first_elem=sorted_freq_seq[-1]\n",
    "                second_elem=sorted_freq_seq[-2]\n",
    "                if first_elem[1]>=second_elem[1]*10:\n",
    "                    df_cell_enhancer_freq.loc[len(df_cell_enhancer_freq)]=[cell_BC,list_enhancer_bc,nb,first_elem[0],first_elem[1],second_elem[0],second_elem[1]]\n",
    "        l1=[]\n",
    "        l2=[]\n",
    "        for i in range(len(df_cell_enhancer_freq)):\n",
    "            l1.append(dico_enhancers['noms'][df_cell_enhancer_freq.loc[i,\"1st_enhancer_BC\"]==dico_enhancers['seq']].item())\n",
    "            l2.append(dico_enhancers['noms'][df_cell_enhancer_freq.loc[i,\"2nd_enhancer_BC\"]==dico_enhancers['seq']].item())\n",
    "        df_cell_enhancer_freq['nom_1st_enhancer']=l1\n",
    "        df_cell_enhancer_freq['nom_2nd_enhancer']=l2\n",
    "        df_cell_enhancer_freq.to_csv(\"output/wrapped_table_\"+seurat_clustering_version+\"_\"+library_processing+\"_\"+str(j)+\".tsv\",sep='\\t',index=False)\n",
    "        j+=1"
   ]
  },
  {
   "cell_type": "markdown",
   "id": "d12cb041-26c0-4475-8220-ba35609615b0",
   "metadata": {},
   "source": [
    "## Step 4 - output formating"
   ]
  },
  {
   "cell_type": "markdown",
   "id": "62566038-4ef2-4018-ac0c-7eaec18a3dbd",
   "metadata": {},
   "source": [
    "This last step is necessary to generate the table used by Seurat and novoSpaRc"
   ]
  },
  {
   "cell_type": "code",
   "execution_count": null,
   "id": "7b1c6a58-1bc7-4203-a324-ff652d0e275c",
   "metadata": {},
   "outputs": [],
   "source": [
    "def step4(seurat_clustering_version=\"full\",library_processing=\"individual\"):\n",
    "    if library_processing==\"individual\" & seurat_clustering_version==\"full\":\n",
    "        list_obj=[df_id_enhancer_cell_umi_sc_cells_6_1_full,df_id_enhancer_cell_umi_sc_cells_6_2_full,df_id_enhancer_cell_umi_sc_cells_6_3_full]\n",
    "    elif library_processing==\"merged\" & seurat_clustering_version==\"full\":\n",
    "        list_obj=[pandas.concat([df_id_enhancer_cell_umi_6_1_full,df_id_enhancer_cell_umi_6_2_full,df_id_enhancer_cell_umi_6_3_full])]\n",
    "    elif library_processing==\"individual\" & seurat_clustering_version==\"reduced\":\n",
    "        list_obj=[df_id_enhancer_cell_umi_sc_cells_6_1_reduced,df_id_enhancer_cell_umi_sc_cells_6_2_reduced,df_id_enhancer_cell_umi_sc_cells_6_3_reduced]\n",
    "    elif library_processing==\"merged\" & seurat_clustering_version==\"reduced\":\n",
    "        list_obj=[pandas.concat([df_id_enhancer_cell_umi_sc_cells_6_1_reduced,df_id_enhancer_cell_umi_sc_cells_6_2_reduced,df_id_enhancer_cell_umi_sc_cells_6_3_reduced])]\n"
   ]
  },
  {
   "cell_type": "code",
   "execution_count": null,
   "id": "8799e982-26e2-4b9a-a8ca-8273f92f2ece",
   "metadata": {},
   "outputs": [],
   "source": []
  },
  {
   "cell_type": "code",
   "execution_count": null,
   "id": "84f137b3-4167-4f94-91a8-ad7e7f208db3",
   "metadata": {},
   "outputs": [],
   "source": []
  },
  {
   "cell_type": "markdown",
   "id": "bff95176-8152-4d4f-8068-522c81b0a1d6",
   "metadata": {},
   "source": [
    "### Shortcut 2"
   ]
  },
  {
   "cell_type": "code",
   "execution_count": 3,
   "id": "8f55ef08-e0d4-4a7a-b51d-9667f6e59d0c",
   "metadata": {},
   "outputs": [],
   "source": [
    "big_table_6_1=pandas.read_csv('individual_full/wrapped_table_full_version_rep1.tsv',sep='\\t')\n",
    "big_table_6_2=pandas.read_csv('individual_full/wrapped_table_full_version_rep2.tsv',sep='\\t')\n",
    "big_table_6_3=pandas.read_csv('individual_full/wrapped_table_full_version_rep3.tsv',sep='\\t')"
   ]
  },
  {
   "cell_type": "code",
   "execution_count": 4,
   "id": "a6052fef-c504-4982-8d29-643c60d63a32",
   "metadata": {},
   "outputs": [],
   "source": [
    "freq_enhancers_6_1=Counter(big_table_6_1['nom_1st_enhancer'])\n",
    "freq_enhancers_6_2=Counter(big_table_6_2['nom_1st_enhancer'])\n",
    "freq_enhancers_6_3=Counter(big_table_6_3['nom_1st_enhancer'])"
   ]
  },
  {
   "cell_type": "code",
   "execution_count": 5,
   "id": "abe4b523-56cc-4a45-b5ca-445c6e51e04e",
   "metadata": {},
   "outputs": [],
   "source": [
    "i=0\n",
    "list_big=[big_table_6_1,big_table_6_2,big_table_6_3]\n",
    "for object in [freq_enhancers_6_1,freq_enhancers_6_2,freq_enhancers_6_3]: #freq_enhancers_6_2,\n",
    "    df_list_cells_with_enhancer=pandas.DataFrame(columns=[\"enhancer\",\"liste\"])\n",
    "    for cle in object.keys():\n",
    "        list_cell = list_big[i]['cell_BC'][list_big[i]['nom_1st_enhancer']==cle].to_list()\n",
    "        new_list=[]\n",
    "        new_list=str(list_cell).replace(\"[\",\"\").replace(\"'\",\"\").replace(\" \",\"\").replace(\"]\",\"\").replace(\"\\\"\",\"\")\n",
    "        df_list_cells_with_enhancer.loc[len(df_list_cells_with_enhancer)]=[cle,new_list]\n",
    "    df_list_cells_with_enhancer.to_csv('individual_full/lists_cells_for_each_enhancer_full_version_6_'+str(i+1)+'.tsv',sep='\\t',index=False)\n",
    "    i+=1"
   ]
  },
  {
   "cell_type": "markdown",
   "id": "ea7827e3-36e1-4f8f-a591-97397a98a4fe",
   "metadata": {},
   "source": [
    "## Now we do the same but for the reduced version"
   ]
  },
  {
   "cell_type": "code",
   "execution_count": 17,
   "id": "a16ba843-cff8-4deb-849b-699d8ad9e4fc",
   "metadata": {},
   "outputs": [],
   "source": [
    "df_id_enhancer_cell_umi_sc_cells_6_1=df_id_enhancer_cell_umi_6_1[df_id_enhancer_cell_umi_6_1['cell_BC'].isin(dico_cells_reduced[\"x\"].tolist())]\n",
    "df_id_enhancer_cell_umi_sc_cells_6_2=df_id_enhancer_cell_umi_6_2[df_id_enhancer_cell_umi_6_2['cell_BC'].isin(dico_cells_reduced[\"x\"].tolist())]\n",
    "df_id_enhancer_cell_umi_sc_cells_6_3=df_id_enhancer_cell_umi_6_3[df_id_enhancer_cell_umi_6_3['cell_BC'].isin(dico_cells_reduced[\"x\"].tolist())]"
   ]
  },
  {
   "cell_type": "code",
   "execution_count": 18,
   "id": "48e50807-19e0-41e8-94da-522e7a3125f4",
   "metadata": {},
   "outputs": [],
   "source": [
    "j=1\n",
    "for object in [df_id_enhancer_cell_umi_sc_cells_6_1,df_id_enhancer_cell_umi_sc_cells_6_2,df_id_enhancer_cell_umi_sc_cells_6_3]: \n",
    "    df_cell_enhancer_freq=pandas.DataFrame(columns=['cell_BC','list_enhancer_BC','nb_enhancer_BC','1st_enhancer_BC','freq_1st_enhancer_BC','2nd_enhancer_BC','freq_2nd_enhancer_BC'])\n",
    "    i=0\n",
    "    for cell_BC in object['cell_BC'].unique():\n",
    "        i=i+1\n",
    "        freq_seq_enhancers=Counter(object['enhancer_BC'][object['cell_BC']==cell_BC])\n",
    "        nb=len(freq_seq_enhancers)\n",
    "        sorted_freq_seq = sorted(freq_seq_enhancers.items(), key=lambda x:x[1])\n",
    "        if nb==0:\n",
    "            continue\n",
    "        elif nb == 1 & sorted_freq_seq[0][1]>5:\n",
    "            list_enhancer_bc=freq_seq_enhancers.keys()\n",
    "            first_elem=sorted_freq_seq[0]\n",
    "            df_cell_enhancer_freq.loc[len(df_cell_enhancer_freq)]=[cell_BC,list_enhancer_bc,nb,first_elem[0],first_elem[1],\"null\",0]\n",
    "        elif nb>=2:\n",
    "            list_enhancer_bc=freq_seq_enhancers.keys()\n",
    "            first_elem=sorted_freq_seq[-1]\n",
    "            second_elem=sorted_freq_seq[-2]\n",
    "            if first_elem[1]>=second_elem[1]*10:\n",
    "                df_cell_enhancer_freq.loc[len(df_cell_enhancer_freq)]=[cell_BC,list_enhancer_bc,nb,first_elem[0],first_elem[1],second_elem[0],second_elem[1]]\n",
    "    l1=[]\n",
    "    l2=[]\n",
    "    for i in range(len(df_cell_enhancer_freq)):\n",
    "        l1.append(dico_enhancers['noms'][df_cell_enhancer_freq.loc[i,\"1st_enhancer_BC\"]==dico_enhancers['seq']].item())\n",
    "        l2.append(dico_enhancers['noms'][df_cell_enhancer_freq.loc[i,\"2nd_enhancer_BC\"]==dico_enhancers['seq']].item())\n",
    "    df_cell_enhancer_freq['nom_1st_enhancer']=l1\n",
    "    df_cell_enhancer_freq['nom_2nd_enhancer']=l2\n",
    "    df_cell_enhancer_freq.to_csv(\"individual_reduced/wrapped_table_reduced_version_rep\"+str(j)+\".tsv\",sep='\\t',index=False)\n",
    "    j+=1"
   ]
  },
  {
   "cell_type": "markdown",
   "id": "b997dbd5-6917-4223-b4dc-38d01616bbc9",
   "metadata": {},
   "source": [
    "bypass 2 bis"
   ]
  },
  {
   "cell_type": "code",
   "execution_count": 6,
   "id": "c411e9ff-0acf-4f6a-95e7-bf85685c139e",
   "metadata": {},
   "outputs": [],
   "source": [
    "big_table_6_1=pandas.read_csv('individual_reduced/wrapped_table_reduced_version_rep1.tsv',sep='\\t')\n",
    "big_table_6_2=pandas.read_csv('individual_reduced/wrapped_table_reduced_version_rep2.tsv',sep='\\t')\n",
    "big_table_6_3=pandas.read_csv('individual_reduced/wrapped_table_reduced_version_rep3.tsv',sep='\\t')"
   ]
  },
  {
   "cell_type": "code",
   "execution_count": 7,
   "id": "0c06b856-111b-4dad-830a-9cedc947c1d2",
   "metadata": {},
   "outputs": [],
   "source": [
    "freq_enhancers_6_1=Counter(big_table_6_1['nom_1st_enhancer'])\n",
    "freq_enhancers_6_2=Counter(big_table_6_2['nom_1st_enhancer'])\n",
    "freq_enhancers_6_3=Counter(big_table_6_3['nom_1st_enhancer'])"
   ]
  },
  {
   "cell_type": "code",
   "execution_count": 8,
   "id": "b381978c-c562-4744-ab8a-2a812c469943",
   "metadata": {},
   "outputs": [],
   "source": [
    "i=0\n",
    "list_big=[big_table_6_1,big_table_6_2,big_table_6_3]\n",
    "for object in [freq_enhancers_6_1,freq_enhancers_6_2,freq_enhancers_6_3]: #freq_enhancers_6_2,\n",
    "    df_list_cells_with_enhancer=pandas.DataFrame(columns=[\"enhancer\",\"liste\"])\n",
    "    for cle in object.keys():\n",
    "        list_cell = list_big[i]['cell_BC'][list_big[i]['nom_1st_enhancer']==cle].to_list()\n",
    "        new_list=[]\n",
    "        new_list=str(list_cell).replace(\"[\",\"\").replace(\"'\",\"\").replace(\" \",\"\").replace(\"]\",\"\").replace(\"\\\"\",\"\")\n",
    "        df_list_cells_with_enhancer.loc[len(df_list_cells_with_enhancer)]=[cle,new_list]\n",
    "    df_list_cells_with_enhancer.to_csv('individual_reduced/lists_cells_for_each_enhancer_reduced_version_6_'+str(i+1)+'.tsv',sep='\\t',index=False)\n",
    "    i+=1"
   ]
  },
  {
   "cell_type": "markdown",
   "id": "dc7987f9-9048-4b46-9780-79ebfde19999",
   "metadata": {},
   "source": [
    "## Last we do the same after merging all three datasets together"
   ]
  },
  {
   "cell_type": "code",
   "execution_count": 14,
   "id": "e4dbe74e-60ba-44bd-9433-7dbf6bc4d6fc",
   "metadata": {},
   "outputs": [],
   "source": [
    "df_id_enhancer_cell_umi_merged= pandas.concat([df_id_enhancer_cell_umi_6_1,df_id_enhancer_cell_umi_6_2,df_id_enhancer_cell_umi_6_3]) #"
   ]
  },
  {
   "cell_type": "code",
   "execution_count": 15,
   "id": "e06334f8-3885-492d-b11f-35ea270f20c5",
   "metadata": {},
   "outputs": [],
   "source": [
    "df_id_enhancer_cell_umi_sc_cells_merged=df_id_enhancer_cell_umi_merged[df_id_enhancer_cell_umi_merged['cell_BC'].isin(dico_cells_full[\"x\"].tolist())]"
   ]
  },
  {
   "cell_type": "code",
   "execution_count": 16,
   "id": "562b21ae-9d96-4787-b4d5-8e7c958468f8",
   "metadata": {},
   "outputs": [],
   "source": [
    "df_cell_enhancer_freq=pandas.DataFrame(columns=['cell_BC','list_enhancer_BC','nb_enhancer_BC','1st_enhancer_BC','freq_1st_enhancer_BC','2nd_enhancer_BC','freq_2nd_enhancer_BC'])\n",
    "for cell_BC in df_id_enhancer_cell_umi_sc_cells_merged['cell_BC'].unique():\n",
    "    freq_seq_enhancers=Counter(df_id_enhancer_cell_umi_sc_cells_merged['enhancer_BC'][df_id_enhancer_cell_umi_sc_cells_merged['cell_BC']==cell_BC])\n",
    "    nb=len(freq_seq_enhancers)\n",
    "    sorted_freq_seq = sorted(freq_seq_enhancers.items(), key=lambda x:x[1])\n",
    "    if nb==0:\n",
    "        continue\n",
    "    elif nb == 1 & sorted_freq_seq[0][1]>5:\n",
    "        list_enhancer_bc=freq_seq_enhancers.keys()\n",
    "        first_elem=sorted_freq_seq[0]\n",
    "        df_cell_enhancer_freq.loc[len(df_cell_enhancer_freq)]=[cell_BC,list_enhancer_bc,nb,first_elem[0],first_elem[1],\"null\",0]\n",
    "    elif nb>=2:\n",
    "        list_enhancer_bc=freq_seq_enhancers.keys()\n",
    "        first_elem=sorted_freq_seq[-1]\n",
    "        second_elem=sorted_freq_seq[-2]\n",
    "        if first_elem[1]>=second_elem[1]*10:\n",
    "            df_cell_enhancer_freq.loc[len(df_cell_enhancer_freq)]=[cell_BC,list_enhancer_bc,nb,first_elem[0],first_elem[1],second_elem[0],second_elem[1]]\n",
    "l1=[]\n",
    "l2=[]\n",
    "for i in range(len(df_cell_enhancer_freq)):\n",
    "    l1.append(dico_enhancers['noms'][df_cell_enhancer_freq.loc[i,\"1st_enhancer_BC\"]==dico_enhancers['seq']].item())\n",
    "    l2.append(dico_enhancers['noms'][df_cell_enhancer_freq.loc[i,\"2nd_enhancer_BC\"]==dico_enhancers['seq']].item())\n",
    "df_cell_enhancer_freq['nom_1st_enhancer']=l1\n",
    "df_cell_enhancer_freq['nom_2nd_enhancer']=l2\n",
    "df_cell_enhancer_freq.to_csv('merged_full/wrapped_table_full_version_merged.tsv',sep='\\t',index=False)"
   ]
  },
  {
   "cell_type": "code",
   "execution_count": 25,
   "id": "2a2c9c05-0af9-4110-a418-af2862f6823d",
   "metadata": {},
   "outputs": [],
   "source": [
    "df_cell_enhancer_freq=pandas.read_csv('merged_full/wrapped_table_full_version_merged.tsv',sep='\\t')"
   ]
  },
  {
   "cell_type": "code",
   "execution_count": 17,
   "id": "ebf38458-2fc8-4751-9375-facc0a7b751b",
   "metadata": {},
   "outputs": [],
   "source": [
    "freq_enhancers_merged=Counter(df_cell_enhancer_freq['nom_1st_enhancer'])"
   ]
  },
  {
   "cell_type": "code",
   "execution_count": 18,
   "id": "d221f6bc-e735-47c0-8d08-23d4d321fa9c",
   "metadata": {},
   "outputs": [],
   "source": [
    "df_list_cells_with_enhancer=pandas.DataFrame(columns=[\"enhancer\",\"liste\"])\n",
    "for cle in freq_enhancers_merged.keys():\n",
    "    list_cell = df_cell_enhancer_freq['cell_BC'][df_cell_enhancer_freq['nom_1st_enhancer']==cle].to_list()\n",
    "    new_list=[]\n",
    "    new_list=str(list_cell).replace(\"[\",\"\").replace(\"'\",\"\").replace(\" \",\"\").replace(\"]\",\"\").replace(\"\\\"\",\"\")\n",
    "    df_list_cells_with_enhancer.loc[len(df_list_cells_with_enhancer)]=[cle,new_list]\n",
    "df_list_cells_with_enhancer.to_csv('merged_full/lists_cells_for_each_enhancer_full_version_merged.tsv',sep='\\t',index=False)"
   ]
  },
  {
   "cell_type": "code",
   "execution_count": null,
   "id": "7ea5886b-618f-4648-a752-077d04fb807d",
   "metadata": {},
   "outputs": [],
   "source": []
  },
  {
   "cell_type": "code",
   "execution_count": 19,
   "id": "35505167-fad7-46ff-a2c8-a082933459dd",
   "metadata": {},
   "outputs": [],
   "source": [
    "df_id_enhancer_cell_umi_sc_cells_merged=df_id_enhancer_cell_umi_merged[df_id_enhancer_cell_umi_merged['cell_BC'].isin(dico_cells_reduced[\"x\"].tolist())]"
   ]
  },
  {
   "cell_type": "code",
   "execution_count": 20,
   "id": "3e40b273-da9d-4e70-8670-18ff52a365e1",
   "metadata": {},
   "outputs": [],
   "source": [
    "df_cell_enhancer_freq=pandas.DataFrame(columns=['cell_BC','list_enhancer_BC','nb_enhancer_BC','1st_enhancer_BC','freq_1st_enhancer_BC','2nd_enhancer_BC','freq_2nd_enhancer_BC'])\n",
    "for cell_BC in df_id_enhancer_cell_umi_sc_cells_merged['cell_BC'].unique():\n",
    "    i=i+1\n",
    "    freq_seq_enhancers=Counter(df_id_enhancer_cell_umi_sc_cells_merged['enhancer_BC'][df_id_enhancer_cell_umi_sc_cells_merged['cell_BC']==cell_BC])\n",
    "    nb=len(freq_seq_enhancers)\n",
    "    sorted_freq_seq = sorted(freq_seq_enhancers.items(), key=lambda x:x[1])\n",
    "    if nb==0:\n",
    "        continue\n",
    "    elif nb == 1 & sorted_freq_seq[0][1]>5:\n",
    "        list_enhancer_bc=freq_seq_enhancers.keys()\n",
    "        first_elem=sorted_freq_seq[0]\n",
    "        df_cell_enhancer_freq.loc[len(df_cell_enhancer_freq)]=[cell_BC,list_enhancer_bc,nb,first_elem[0],first_elem[1],\"null\",0]\n",
    "    elif nb>=2:\n",
    "        list_enhancer_bc=freq_seq_enhancers.keys()\n",
    "        first_elem=sorted_freq_seq[-1]\n",
    "        second_elem=sorted_freq_seq[-2]\n",
    "        if first_elem[1]>=second_elem[1]*10:\n",
    "            df_cell_enhancer_freq.loc[len(df_cell_enhancer_freq)]=[cell_BC,list_enhancer_bc,nb,first_elem[0],first_elem[1],second_elem[0],second_elem[1]]\n",
    "l1=[]\n",
    "l2=[]\n",
    "for i in range(len(df_cell_enhancer_freq)):\n",
    "    l1.append(dico_enhancers['noms'][df_cell_enhancer_freq.loc[i,\"1st_enhancer_BC\"]==dico_enhancers['seq']].item())\n",
    "    l2.append(dico_enhancers['noms'][df_cell_enhancer_freq.loc[i,\"2nd_enhancer_BC\"]==dico_enhancers['seq']].item())\n",
    "df_cell_enhancer_freq['nom_1st_enhancer']=l1\n",
    "df_cell_enhancer_freq['nom_2nd_enhancer']=l2\n",
    "df_cell_enhancer_freq.to_csv('merged_reduced/wrapped_table_reduced_version_merged.tsv',sep='\\t',index=False)"
   ]
  },
  {
   "cell_type": "code",
   "execution_count": 30,
   "id": "ece606b5-87cc-43ee-a073-7a9951f189ad",
   "metadata": {},
   "outputs": [],
   "source": [
    "df_cell_enhancer_freq=pandas.read_csv('merged_reduced/wrapped_table_reduced_version_merged.tsv',sep='\\t')"
   ]
  },
  {
   "cell_type": "code",
   "execution_count": 21,
   "id": "46591b81-cebc-48f7-939b-16ce4a0ed5ab",
   "metadata": {},
   "outputs": [],
   "source": [
    "freq_enhancers_merged=Counter(df_cell_enhancer_freq['nom_1st_enhancer'])"
   ]
  },
  {
   "cell_type": "code",
   "execution_count": 22,
   "id": "b14941f1-8eeb-401a-97de-b7267914b59d",
   "metadata": {},
   "outputs": [],
   "source": [
    "df_list_cells_with_enhancer=pandas.DataFrame(columns=[\"enhancer\",\"liste\"])\n",
    "for cle in freq_enhancers_merged.keys():\n",
    "    list_cell = df_cell_enhancer_freq['cell_BC'][df_cell_enhancer_freq['nom_1st_enhancer']==cle].to_list()\n",
    "    new_list=[]\n",
    "    new_list=str(list_cell).replace(\"[\",\"\").replace(\"'\",\"\").replace(\" \",\"\").replace(\"]\",\"\").replace(\"\\\"\",\"\")\n",
    "    df_list_cells_with_enhancer.loc[len(df_list_cells_with_enhancer)]=[cle,new_list]\n",
    "df_list_cells_with_enhancer.to_csv('merged_reduced/lists_cells_for_each_enhancer_reduced_version_merged.tsv',sep='\\t',index=False)"
   ]
  },
  {
   "cell_type": "code",
   "execution_count": null,
   "id": "a0be7b92-1591-4504-b43c-b5ba714c6665",
   "metadata": {},
   "outputs": [],
   "source": []
  },
  {
   "cell_type": "code",
   "execution_count": null,
   "id": "7ebcc7de-a795-4532-bee8-042baa4da145",
   "metadata": {},
   "outputs": [],
   "source": []
  },
  {
   "cell_type": "code",
   "execution_count": null,
   "id": "b295783f-d63e-4662-8037-a1241b4fa260",
   "metadata": {},
   "outputs": [],
   "source": []
  },
  {
   "cell_type": "code",
   "execution_count": null,
   "id": "872a0853-8c79-4d37-9621-afcf1da99bdd",
   "metadata": {},
   "outputs": [],
   "source": []
  },
  {
   "cell_type": "code",
   "execution_count": null,
   "id": "55c0a80b-ed49-4b0f-b5ab-78b6c02f8e8a",
   "metadata": {},
   "outputs": [],
   "source": []
  }
 ],
 "metadata": {
  "kernelspec": {
   "display_name": "Python 3 (ipykernel)",
   "language": "python",
   "name": "python3"
  },
  "language_info": {
   "codemirror_mode": {
    "name": "ipython",
    "version": 3
   },
   "file_extension": ".py",
   "mimetype": "text/x-python",
   "name": "python",
   "nbconvert_exporter": "python",
   "pygments_lexer": "ipython3",
   "version": "3.10.13"
  }
 },
 "nbformat": 4,
 "nbformat_minor": 5
}
