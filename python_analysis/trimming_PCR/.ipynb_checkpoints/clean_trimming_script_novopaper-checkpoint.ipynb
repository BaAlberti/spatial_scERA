{
 "cells": [
  {
   "cell_type": "markdown",
   "id": "c6b5250c-00e0-4f22-b904-ede28e1b7840",
   "metadata": {},
   "source": [
    "# Aim of the script"
   ]
  },
  {
   "cell_type": "markdown",
   "id": "5ecf6de2-3a24-4415-b84c-02b7c1c0ed83",
   "metadata": {},
   "source": [
    "In this script, all the reads comming from the cutadapt steps are processed in order to generate tables linking the different cells to their enhancer. <br>\n",
    "- First, it converts fastq reads to pandas dataframe.\n",
    "- Second, it removes all rows with a different enhancer barcode than the true one. Plus it removes the rows with a different cell barcode to the ones found in the selected clustering version.\n",
    "- Third, it computes for each cell barcode the different enhancer barcodes found and their respective frequency. It also select the first and second most common enhancer barcodes found.\n",
    "- Last, it generates a cell-enhancer pairs table used by Seurat and novoSpaRc. <br>\n",
    "\n",
    "Because it is quite heavy to run, two shortcuts to reload the processed dataframes are present in the script after step 1 and 3\n",
    "\n",
    "The input files are stored in the **data/cutadapt_output** folder. <br> \n",
    "The output files are generated and stored in the **data/cell_enhancer_pairs** folder."
   ]
  },
  {
   "cell_type": "markdown",
   "id": "c7a5f7f0-1080-42e4-a52d-67910ee5fbad",
   "metadata": {},
   "source": [
    "## Loading packages"
   ]
  },
  {
   "cell_type": "code",
   "execution_count": 1,
   "id": "da62a27a-5fc2-4625-aa3c-0a59109253eb",
   "metadata": {},
   "outputs": [],
   "source": [
    "from collections import Counter\n",
    "import collections\n",
    "from Bio import SeqIO\n",
    "from Bio import AlignIO\n",
    "from Bio import Align\n",
    "import pandas\n",
    "import numpy\n",
    "import matplotlib.pyplot as plt\n",
    "import csv"
   ]
  },
  {
   "cell_type": "markdown",
   "id": "b0e5b898-871c-4e14-9299-d7a00b4eb849",
   "metadata": {},
   "source": [
    "## Loading cells and enhacers dictionaries"
   ]
  },
  {
   "cell_type": "markdown",
   "id": "a7f294dc-613d-4008-963e-9623e4a96ad6",
   "metadata": {},
   "source": [
    "**dico_enhancers** is a table containing the 25 true enhancer barcodes. <br>\n",
    "**dico_cells** are tables containing the cell barcodes present after the seurat analysis. Either with the full or the reduced clustering."
   ]
  },
  {
   "cell_type": "code",
   "execution_count": 2,
   "id": "75e67ab3-3a97-4152-9562-8950520dd00b",
   "metadata": {},
   "outputs": [],
   "source": [
    "dico_enhancers=pandas.read_csv(\"dico_enhancers_python.tsv\",sep=\"\\t\",header=None, names=[\"noms\",\"seq\"])\n",
    "dico_cells_full=pandas.read_csv(\"../R_analyses/id_cells_6_int_full_clusters.csv\")\n",
    "dico_cells_reduced=pandas.read_csv(\"../R_analyses/id_cells_6_int_reduced_clusters.csv\")"
   ]
  },
  {
   "cell_type": "markdown",
   "id": "57b1d54e-73b9-4051-8864-7587d565507e",
   "metadata": {},
   "source": [
    "## Step1 - Converting fastq reads to pandas dataframe"
   ]
  },
  {
   "cell_type": "code",
   "execution_count": 3,
   "id": "8ab145c0-7d98-446b-b07c-ca70a9596c34",
   "metadata": {},
   "outputs": [],
   "source": [
    "id=[]\n",
    "seq=[]\n",
    "for record1 in SeqIO.parse(\"../data/cutadapt_output/trimming_libS6.1/E_BC.fastq\", \"fastq\"):\n",
    "    id.append(record1.id)\n",
    "    seq.append(str(record1.seq))\n",
    "df_id_enhancer=pandas.DataFrame({'id':id,'enhancer_BC':seq})\n",
    "df_id_enhancer.to_csv('preprocessed_tables/DF_reads_ID_enhancer_6_1.tsv',sep='\\t',index=False)"
   ]
  },
  {
   "cell_type": "code",
   "execution_count": 4,
   "id": "71e96e9a-b2d8-4bd7-9af4-bb7ed4c8efc7",
   "metadata": {},
   "outputs": [],
   "source": [
    "id=[]\n",
    "seq=[]\n",
    "for record1 in SeqIO.parse(\"../data/cutadapt_output/trimming_libS6.2/E_BC.fastq\", \"fastq\"):\n",
    "    id.append(record1.id)\n",
    "    seq.append(str(record1.seq))\n",
    "df_id_enhancer=pandas.DataFrame({'id':id,'enhancer_BC':seq})\n",
    "df_id_enhancer.to_csv('preprocessed_tables/DF_reads_ID_enhancer_6_2.tsv',sep='\\t',index=False)"
   ]
  },
  {
   "cell_type": "code",
   "execution_count": 8,
   "id": "f28ec0cd-eea0-4a96-b68e-51cf44476f31",
   "metadata": {},
   "outputs": [],
   "source": [
    "id=[]\n",
    "seq=[]\n",
    "for record1 in SeqIO.parse(\"../data/cutadapt_output/trimming_libS6.3/E_BC.fastq\", \"fastq\"):\n",
    "    id.append(record1.id)\n",
    "    seq.append(str(record1.seq))\n",
    "df_id_enhancer=pandas.DataFrame({'id':id,'enhancer_BC':seq})\n",
    "df_id_enhancer.to_csv('preprocessed_tables/DF_reads_ID_enhancer_6_3.tsv',sep='\\t',index=False)"
   ]
  },
  {
   "cell_type": "code",
   "execution_count": 6,
   "id": "e9fd39c6-8ebc-4918-a15e-d98c92e0024a",
   "metadata": {},
   "outputs": [],
   "source": [
    "id=[]\n",
    "cell=[]\n",
    "UMI=[]\n",
    "for record2 in SeqIO.parse(\"../data/cutadapt_output/trimming_libS6.1/C_BC.fastq\", \"fastq\"):\n",
    "    id.append(record2.id)\n",
    "    seq=str(record2.seq)\n",
    "    cell.append(\"rep1_\"+seq[:16])\n",
    "    UMI.append(seq[16:])\n",
    "df_id_cell_umi=pandas.DataFrame({'id':id,'cell_BC':cell,'UMI':UMI})\n",
    "df_id_cell_umi.to_csv('preprocessed_tables/DF_reads_ID_cell_UMI_6_1.tsv',sep=\"\\t\", index=False)"
   ]
  },
  {
   "cell_type": "code",
   "execution_count": 7,
   "id": "16298ea0-0969-4254-9d1a-408b89bb92bb",
   "metadata": {},
   "outputs": [],
   "source": [
    "id=[]\n",
    "cell=[]\n",
    "UMI=[]\n",
    "for record2 in SeqIO.parse(\"../data/cutadapt_output/trimming_libS6.2/C_BC.fastq\", \"fastq\"):\n",
    "    id.append(record2.id)\n",
    "    seq=str(record2.seq)\n",
    "    cell.append(\"rep2_\"+seq[:16])\n",
    "    UMI.append(seq[16:])\n",
    "df_id_cell_umi=pandas.DataFrame({'id':id,'cell_BC':cell,'UMI':UMI})\n",
    "df_id_cell_umi.to_csv('preprocessed_tables/DF_reads_ID_cell_UMI_6_2.tsv',sep=\"\\t\", index=False)"
   ]
  },
  {
   "cell_type": "code",
   "execution_count": 9,
   "id": "e5a5532e-7217-4ff0-bb31-0392c992c767",
   "metadata": {},
   "outputs": [],
   "source": [
    "id=[]\n",
    "cell=[]\n",
    "UMI=[]\n",
    "for record2 in SeqIO.parse(\"../data/cutadapt_output/trimming_libS6.3/C_BC.fastq\", \"fastq\"):\n",
    "    id.append(record2.id)\n",
    "    seq=str(record2.seq)\n",
    "    cell.append(\"rep3_\"+seq[:16])\n",
    "    UMI.append(seq[16:])\n",
    "df_id_cell_umi=pandas.DataFrame({'id':id,'cell_BC':cell,'UMI':UMI})\n",
    "df_id_cell_umi.to_csv('preprocessed_tables/DF_reads_ID_cell_UMI_6_3.tsv',sep=\"\\t\", index=False)"
   ]
  },
  {
   "cell_type": "markdown",
   "id": "648dde87-98c0-48c8-9ca5-dbe2ed86b8ce",
   "metadata": {},
   "source": [
    "### Shortcut 1"
   ]
  },
  {
   "cell_type": "code",
   "execution_count": 10,
   "id": "025c3bee-1dab-433f-bdfb-701448fc4825",
   "metadata": {},
   "outputs": [],
   "source": [
    "#df_id_enhancer_6_1=pandas.read_csv('preprocessed_tables/DF_reads_ID_enhancer_6_1.tsv',sep='\\t')\n",
    "#df_id_cell_umi_6_1=pandas.read_csv('preprocessed_tables/DF_reads_ID_cell_UMI_6_1.tsv',sep='\\t')\n",
    "#df_id_enhancer_6_2=pandas.read_csv('preprocessed_tables/DF_reads_ID_enhancer_6_2.tsv',sep='\\t')\n",
    "#df_id_cell_umi_6_2=pandas.read_csv('preprocessed_tables/DF_reads_ID_cell_UMI_6_2.tsv',sep='\\t')\n",
    "#df_id_enhancer_6_3=pandas.read_csv('preprocessed_tables/DF_reads_ID_enhancer_6_3.tsv',sep='\\t')\n",
    "#df_id_cell_umi_6_3=pandas.read_csv('preprocessed_tables/DF_reads_ID_cell_UMI_6_3.tsv',sep='\\t')"
   ]
  },
  {
   "cell_type": "markdown",
   "id": "47b3181f-c93d-4c31-aa21-f49ddb652850",
   "metadata": {},
   "source": [
    "## Step 2 - removing rows based on known cells and enhancer barcodes"
   ]
  },
  {
   "cell_type": "code",
   "execution_count": 11,
   "id": "f897c10b-b4a1-48f1-b308-8f954c7766d6",
   "metadata": {},
   "outputs": [],
   "source": [
    "df_id_enhancer_cell_umi_6_1=pandas.merge(df_id_enhancer_6_1,df_id_cell_umi_6_1,on='id')\n",
    "df_id_enhancer_cell_umi_6_2=pandas.merge(df_id_enhancer_6_2,df_id_cell_umi_6_2,on='id')\n",
    "df_id_enhancer_cell_umi_6_3=pandas.merge(df_id_enhancer_6_3,df_id_cell_umi_6_3,on='id')"
   ]
  },
  {
   "cell_type": "markdown",
   "id": "e116ef58-80db-4836-badb-e53025423ba5",
   "metadata": {},
   "source": [
    "Removing the rows with a wrong enhancer barcode"
   ]
  },
  {
   "cell_type": "code",
   "execution_count": null,
   "id": "34f74f32-aec7-4550-a796-672a9b3c8c87",
   "metadata": {},
   "outputs": [],
   "source": [
    "df_id_enhancer_cell_umi_6_1=df_id_enhancer_cell_umi_6_1[df_id_enhancer_cell_umi_6_1['enhancer_BC'].isin(dico_enhancers['seq'])]\n",
    "df_id_enhancer_cell_umi_6_2=df_id_enhancer_cell_umi_6_2[df_id_enhancer_cell_umi_6_2['enhancer_BC'].isin(dico_enhancers['seq'])]\n",
    "df_id_enhancer_cell_umi_6_3=df_id_enhancer_cell_umi_6_3[df_id_enhancer_cell_umi_6_3['enhancer_BC'].isin(dico_enhancers['seq'])]"
   ]
  },
  {
   "cell_type": "markdown",
   "id": "cf14be4f-9121-4bd9-9170-0a55bc223210",
   "metadata": {},
   "source": [
    "Removing the rows with a cell barcode not found in the seurat analysis. Here you can select if you are working on the full or reduced clustering"
   ]
  },
  {
   "cell_type": "code",
   "execution_count": null,
   "id": "181d2434-17be-4c78-8ef1-2ac63b269180",
   "metadata": {},
   "outputs": [],
   "source": [
    "df_id_enhancer_cell_umi_sc_cells_6_1_full=df_id_enhancer_cell_umi_6_1[df_id_enhancer_cell_umi_6_1['cell_BC'].isin(dico_cells_full[\"x\"].tolist())]\n",
    "df_id_enhancer_cell_umi_sc_cells_6_2_full=df_id_enhancer_cell_umi_6_2[df_id_enhancer_cell_umi_6_2['cell_BC'].isin(dico_cells_full[\"x\"].tolist())]\n",
    "df_id_enhancer_cell_umi_sc_cells_6_3_full=df_id_enhancer_cell_umi_6_3[df_id_enhancer_cell_umi_6_3['cell_BC'].isin(dico_cells_full[\"x\"].tolist())]"
   ]
  },
  {
   "cell_type": "code",
   "execution_count": null,
   "id": "cd0037f2-33b0-4d7d-91c4-dcea6a6bb46a",
   "metadata": {},
   "outputs": [],
   "source": [
    "df_id_enhancer_cell_umi_sc_cells_6_1_reduced=df_id_enhancer_cell_umi_6_1[df_id_enhancer_cell_umi_6_1['cell_BC'].isin(dico_cells_reduced[\"x\"].tolist())]\n",
    "df_id_enhancer_cell_umi_sc_cells_6_2_reduced=df_id_enhancer_cell_umi_6_2[df_id_enhancer_cell_umi_6_2['cell_BC'].isin(dico_cells_reduced[\"x\"].tolist())]\n",
    "df_id_enhancer_cell_umi_sc_cells_6_3_reduced=df_id_enhancer_cell_umi_6_3[df_id_enhancer_cell_umi_6_3['cell_BC'].isin(dico_cells_reduced[\"x\"].tolist())]"
   ]
  },
  {
   "cell_type": "markdown",
   "id": "93c0cba6-9005-4389-9804-650a7ca5ca95",
   "metadata": {},
   "source": [
    "## Step 3 - Listing the enhancer barcodes found for each cells"
   ]
  },
  {
   "cell_type": "markdown",
   "id": "9a92d11a-a36b-4d3b-ada1-d00df960e398",
   "metadata": {},
   "source": [
    "For this function you have to select both the selected seurat clustering version (full/reduced) and how to process the samples (individual/merged). <br>\n",
    "The function will then generates a table recapitalting enhancer information for each cell barcode."
   ]
  },
  {
   "cell_type": "code",
   "execution_count": null,
   "id": "11e8d49d-f572-4759-836f-3aea88bf11ec",
   "metadata": {},
   "outputs": [],
   "source": [
    "def step3(seurat_clustering_version=\"full\",library_processing=\"individual\"):\n",
    "    if library_processing==\"individual\" & seurat_clustering_version==\"full\":\n",
    "        list_obj=[df_id_enhancer_cell_umi_sc_cells_6_1_full,df_id_enhancer_cell_umi_sc_cells_6_2_full,df_id_enhancer_cell_umi_sc_cells_6_3_full]\n",
    "    elif library_processing==\"merged\" & seurat_clustering_version==\"full\":\n",
    "        list_obj=[pandas.concat([df_id_enhancer_cell_umi_6_1_full,df_id_enhancer_cell_umi_6_2_full,df_id_enhancer_cell_umi_6_3_full])]\n",
    "    elif library_processing==\"individual\" & seurat_clustering_version==\"reduced\":\n",
    "        list_obj=[df_id_enhancer_cell_umi_sc_cells_6_1_reduced,df_id_enhancer_cell_umi_sc_cells_6_2_reduced,df_id_enhancer_cell_umi_sc_cells_6_3_reduced]\n",
    "    elif library_processing==\"merged\" & seurat_clustering_version==\"reduced\":\n",
    "        list_obj=[pandas.concat([df_id_enhancer_cell_umi_sc_cells_6_1_reduced,df_id_enhancer_cell_umi_sc_cells_6_2_reduced,df_id_enhancer_cell_umi_sc_cells_6_3_reduced])]\n",
    "    j=1\n",
    "    for object in list_obj:\n",
    "        df_cell_enhancer_freq=pandas.DataFrame(columns=['cell_BC','list_enhancer_BC','nb_enhancer_BC','1st_enhancer_BC','freq_1st_enhancer_BC','2nd_enhancer_BC','freq_2nd_enhancer_BC'])\n",
    "        i=0\n",
    "        for cell_BC in object['cell_BC'].unique():\n",
    "            i=i+1\n",
    "            freq_seq_enhancers=Counter(object['enhancer_BC'][object['cell_BC']==cell_BC])\n",
    "            nb=len(freq_seq_enhancers)\n",
    "            sorted_freq_seq = sorted(freq_seq_enhancers.items(), key=lambda x:x[1])\n",
    "            if nb==0:\n",
    "                continue\n",
    "            elif nb == 1 & sorted_freq_seq[0][1]>5:\n",
    "                list_enhancer_bc=freq_seq_enhancers.keys()\n",
    "                first_elem=sorted_freq_seq[0]\n",
    "                df_cell_enhancer_freq.loc[len(df_cell_enhancer_freq)]=[cell_BC,list_enhancer_bc,nb,first_elem[0],first_elem[1],\"null\",0]\n",
    "            elif nb>=2:\n",
    "                list_enhancer_bc=freq_seq_enhancers.keys()\n",
    "                first_elem=sorted_freq_seq[-1]\n",
    "                second_elem=sorted_freq_seq[-2]\n",
    "                if first_elem[1]>=second_elem[1]*10:\n",
    "                    df_cell_enhancer_freq.loc[len(df_cell_enhancer_freq)]=[cell_BC,list_enhancer_bc,nb,first_elem[0],first_elem[1],second_elem[0],second_elem[1]]\n",
    "        l1=[]\n",
    "        l2=[]\n",
    "        for i in range(len(df_cell_enhancer_freq)):\n",
    "            l1.append(dico_enhancers['noms'][df_cell_enhancer_freq.loc[i,\"1st_enhancer_BC\"]==dico_enhancers['seq']].item())\n",
    "            l2.append(dico_enhancers['noms'][df_cell_enhancer_freq.loc[i,\"2nd_enhancer_BC\"]==dico_enhancers['seq']].item())\n",
    "        df_cell_enhancer_freq['nom_1st_enhancer']=l1\n",
    "        df_cell_enhancer_freq['nom_2nd_enhancer']=l2\n",
    "        df_cell_enhancer_freq.to_csv(\"../data/wrapped_table_\"+seurat_clustering_version+\"_\"+library_processing+\"_rep\"+str(j)+\".tsv\",sep='\\t',index=False)\n",
    "        j+=1"
   ]
  },
  {
   "cell_type": "markdown",
   "id": "ec0d230a-78f2-4ab1-8aba-5750578a5fe3",
   "metadata": {},
   "source": [
    "### Shortcut 2"
   ]
  },
  {
   "cell_type": "code",
   "execution_count": null,
   "id": "5a00033e-0151-422c-83bc-41d0dcaa8950",
   "metadata": {},
   "outputs": [],
   "source": [
    "#big_table_6_1_full=pandas.read_csv('../data/wrapped_table_full_individual_rep1.tsv',sep='\\t')\n",
    "#big_table_6_2_full=pandas.read_csv('../data/wrapped_table_full_individual_rep2.tsv',sep='\\t')\n",
    "#big_table_6_3_full=pandas.read_csv('../data/wrapped_table_full_individual_rep3.tsv',sep='\\t')\n",
    "#big_table_merged_full=pandas.read_csv('../data/wrapped_table_full_merged_rep1.tsv',sep='\\t')\n",
    "\n",
    "#big_table_6_1_reduced=pandas.read_csv('../data/wrapped_table_reduced_individual_rep1.tsv',sep='\\t')\n",
    "#big_table_6_2_reduced=pandas.read_csv('../data/wrapped_table_reduced_individual_rep2.tsv',sep='\\t')\n",
    "#big_table_6_3_reduced=pandas.read_csv('../data/wrapped_table_reduced_individual_rep3.tsv',sep='\\t')\n",
    "#big_table_merged_reduced=pandas.read_csv('../data/wrapped_table_reduced_merged_rep1.tsv',sep='\\t')"
   ]
  },
  {
   "cell_type": "markdown",
   "id": "be206628-1db1-4a24-85e9-65ea5587fa35",
   "metadata": {},
   "source": [
    "### Generates the frequency tables\n",
    "Again just run the lines you need depending on the files generated previously"
   ]
  },
  {
   "cell_type": "code",
   "execution_count": null,
   "id": "6a984a3b-d188-4ed5-b544-199c733d183e",
   "metadata": {},
   "outputs": [],
   "source": [
    "freq_enhancers_6_1_full=Counter(big_table_6_1_full['nom_1st_enhancer'])\n",
    "freq_enhancers_6_2_full=Counter(big_table_6_2_full['nom_1st_enhancer'])\n",
    "freq_enhancers_6_3_full=Counter(big_table_6_3_full['nom_1st_enhancer'])\n",
    "freq_enhancers_merged_full=Counter(big_table_merged_full['nom_1st_enhancer'])\n",
    "\n",
    "freq_enhancers_6_1_reduced=Counter(big_table_6_1_reduced['nom_1st_enhancer'])\n",
    "freq_enhancers_6_2_reduced=Counter(big_table_6_2_reduced['nom_1st_enhancer'])\n",
    "freq_enhancers_6_3_reduced=Counter(big_table_6_3_reduced['nom_1st_enhancer'])\n",
    "freq_enhancers_merged_reduced=Counter(big_table_merged_reduced['nom_1st_enhancer'])"
   ]
  },
  {
   "cell_type": "markdown",
   "id": "d12cb041-26c0-4475-8220-ba35609615b0",
   "metadata": {},
   "source": [
    "## Step 4 - output formating"
   ]
  },
  {
   "cell_type": "markdown",
   "id": "62566038-4ef2-4018-ac0c-7eaec18a3dbd",
   "metadata": {},
   "source": [
    "This last step is necessary to generate the table used by Seurat and novoSpaRc"
   ]
  },
  {
   "cell_type": "code",
   "execution_count": null,
   "id": "7b1c6a58-1bc7-4203-a324-ff652d0e275c",
   "metadata": {},
   "outputs": [],
   "source": [
    "def step4(seurat_clustering_version=\"full\",library_processing=\"individual\"):\n",
    "    if library_processing==\"individual\" & seurat_clustering_version==\"full\":\n",
    "        list_big=[big_table_6_1_full,big_table_6_2_full,big_table_6_3_full]\n",
    "        list_freq=[freq_enhancers_6_1_full,freq_enhancers_6_2_full,freq_enhancers_6_3_full]\n",
    "    elif library_processing==\"merged\" & seurat_clustering_version==\"full\":\n",
    "        list_big=[big_table_merged_full]\n",
    "        list_freq=[freq_enhancers_merged_full]\n",
    "    elif library_processing==\"individual\" & seurat_clustering_version==\"reduced\":\n",
    "        list_big=[big_table_6_1_reduced,big_table_6_2_reduced,big_table_6_3_reduced]\n",
    "        list_freq=[freq_enhancers_6_1_reduced,freq_enhancers_6_2_reduced,freq_enhancers_6_3_reduced]\n",
    "    elif library_processing==\"merged\" & seurat_clustering_version==\"reduced\":\n",
    "        list_big=[big_table_merged_reduced]\n",
    "        list_freq=[freq_enhancers_merged_reduced]\n",
    "\n",
    "    i=0\n",
    "    for object in list_freq:\n",
    "        df_list_cells_with_enhancer=pandas.DataFrame(columns=[\"enhancer\",\"liste\"])\n",
    "        for cle in object.keys():\n",
    "            list_cell = list_big[i]['cell_BC'][list_big[i]['nom_1st_enhancer']==cle].to_list()\n",
    "            new_list=[]\n",
    "            new_list=str(list_cell).replace(\"[\",\"\").replace(\"'\",\"\").replace(\" \",\"\").replace(\"]\",\"\").replace(\"\\\"\",\"\")\n",
    "            df_list_cells_with_enhancer.loc[len(df_list_cells_with_enhancer)]=[cle,new_list]\n",
    "        df_list_cells_with_enhancer.to_csv('../data/cell_enhancer_pairs_'+seurat_clustering_version+'_'+library_processing+'_rep'+str(i+1)+'.tsv',sep='\\t',index=False)\n",
    "        i+=1"
   ]
  }
 ],
 "metadata": {
  "kernelspec": {
   "display_name": "Python 3 (ipykernel)",
   "language": "python",
   "name": "python3"
  },
  "language_info": {
   "codemirror_mode": {
    "name": "ipython",
    "version": 3
   },
   "file_extension": ".py",
   "mimetype": "text/x-python",
   "name": "python",
   "nbconvert_exporter": "python",
   "pygments_lexer": "ipython3",
   "version": "3.10.13"
  }
 },
 "nbformat": 4,
 "nbformat_minor": 5
}
