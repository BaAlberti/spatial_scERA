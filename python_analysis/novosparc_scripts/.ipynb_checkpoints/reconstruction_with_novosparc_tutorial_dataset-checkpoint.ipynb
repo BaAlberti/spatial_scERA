{
 "cells": [
  {
   "cell_type": "code",
   "execution_count": 1,
   "id": "845ec109-4dbb-4cad-9b0e-6808c8dc7b7f",
   "metadata": {},
   "outputs": [],
   "source": [
    "# imports\n",
    "%matplotlib inline\n",
    "\n",
    "import novosparc\n",
    "\n",
    "import os\n",
    "import cv2\n",
    "import numpy as np\n",
    "import pandas as pd\n",
    "import pandas.plotting\n",
    "import scanpy as sc\n",
    "import plotly.express as px\n",
    "import plotly.graph_objs as go\n",
    "from plotly.subplots import make_subplots\n",
    "import matplotlib.pyplot as plt\n",
    "import matplotlib.colors\n",
    "from matplotlib.animation import FuncAnimation\n",
    "import altair as alt\n",
    "from scipy.spatial.distance import cdist, squareform, pdist\n",
    "from scipy.stats import ks_2samp\n",
    "from scipy.stats import pearsonr\n",
    "from ipywidgets import interact, HBox, VBox, Output\n",
    "import kaleido\n",
    "\n",
    "import copy\n",
    "\n",
    "from ot.bregman import sinkhorn\n",
    "import scipy.stats as stats\n",
    "from sklearn.neighbors import kneighbors_graph\n",
    "\n",
    "import random\n",
    "random.seed(0)"
   ]
  },
  {
   "cell_type": "code",
   "execution_count": 4,
   "id": "080b55d8-3569-4e1f-bdb2-f35b493e47e7",
   "metadata": {},
   "outputs": [
    {
     "name": "stdout",
     "output_type": "stream",
     "text": [
      "number of cells: 1297\n",
      "number of genes: 8924\n"
     ]
    }
   ],
   "source": [
    "# Reading expression data to scanpy AnnData (cells x genes)\n",
    "data_dir = '../../novosparc/novosparc/datasets/drosophila_scRNAseq/'\n",
    "data_path = os.path.join(data_dir, 'dge_normalized.txt')\n",
    "dataset = sc.read(data_path).T # Transpose la matrice pour que les cellules soient en lignes et les gènes en colonne\n",
    "gene_names = dataset.var.index.tolist() # Récupère le nom de chaque gène pour les mettre dans une liste\n",
    "\n",
    "num_cells, num_genes = dataset.shape # 12275 cells x 17670 genes\n",
    "\n",
    "print('number of cells: %d' % num_cells)\n",
    "print('number of genes: %d' % num_genes)"
   ]
  },
  {
   "cell_type": "code",
   "execution_count": 5,
   "id": "fce91c40-d207-4abf-aaeb-5c6f08409e57",
   "metadata": {},
   "outputs": [
    {
     "name": "stdout",
     "output_type": "stream",
     "text": [
      "[[-194.04    0.22   30.2 ]\n",
      " [-203.32    1.93   20.08]\n",
      " [-200.25    3.59   23.93]\n",
      " ...\n",
      " [-118.4    33.4   -48.86]\n",
      " [ -20.05    3.22  -78.11]\n",
      " [  -0.25   21.24   63.68]]\n",
      "3039\n"
     ]
    }
   ],
   "source": [
    "atlas_dir = '../../novosparc/novosparc/datasets/bdtnp/'\n",
    "target_space_path = os.path.join(atlas_dir, 'geometry.txt') # le fichier contient les coordonnées de 6078 points selon x, y et z\n",
    "locations = pd.read_csv(target_space_path, sep=' ')\n",
    "num_locations = 3039 # Dans notre cas on ne veut conserver que 3039 locations\n",
    "locations_apriori = locations[:num_locations][['xcoord', 'ycoord', 'zcoord']].values # On ne va donc récupérer que les 3039 premières locations et selon les 3 dimensions\n",
    "print(locations_apriori)\n",
    "print(len(locations_apriori))"
   ]
  },
  {
   "cell_type": "code",
   "execution_count": 6,
   "id": "3014fbcf-76b5-499d-a521-e11e8737cb05",
   "metadata": {},
   "outputs": [],
   "source": [
    "atlas_path = os.path.join(atlas_dir, 'dge.txt')\n",
    "atlas = sc.read(atlas_path) # Récupération de l'atlas avec 3039 gènes\n",
    "atlas.obsm['spatial'] = locations_apriori"
   ]
  },
  {
   "cell_type": "code",
   "execution_count": 7,
   "id": "f4df0f98-a711-41cf-82a8-57fa66fdbad5",
   "metadata": {},
   "outputs": [
    {
     "data": {
      "text/plain": [
       "80"
      ]
     },
     "execution_count": 7,
     "metadata": {},
     "output_type": "execute_result"
    }
   ],
   "source": [
    "inter=list(set(dataset.var_names).intersection(atlas.var_names))\n",
    "subatlas=atlas[:,inter]\n",
    "atlas_genes = subatlas.var.index.tolist()\n",
    "len(atlas_genes)"
   ]
  },
  {
   "cell_type": "code",
   "execution_count": 8,
   "id": "b7a052d7-b4ff-4d6d-a019-20e4bd5c7a25",
   "metadata": {},
   "outputs": [],
   "source": [
    "sc.pp.normalize_total(dataset)\n",
    "sc.pp.log1p(dataset)"
   ]
  },
  {
   "cell_type": "code",
   "execution_count": 9,
   "id": "cb7e3d3a-469f-4874-b525-0abc80a8a34d",
   "metadata": {},
   "outputs": [],
   "source": [
    "tissue = novosparc.cm.Tissue(dataset=dataset, locations=locations_apriori)"
   ]
  },
  {
   "cell_type": "code",
   "execution_count": 10,
   "id": "4f7b908e-ae81-45ef-bd51-b489bf03d3c3",
   "metadata": {},
   "outputs": [
    {
     "name": "stdout",
     "output_type": "stream",
     "text": [
      "Setting up for reconstruction ... done ( 3.25 seconds )\n"
     ]
    }
   ],
   "source": [
    "# params for smooth cost\n",
    "num_neighbors_s = 3\n",
    "num_neighbors_t = 5\n",
    "\n",
    "# params for linear cost\n",
    "markers = list(set(atlas_genes).intersection(gene_names)) # On ne va utiliser que les gènes en communs entre l'atlas et le jeu de données\n",
    "atlas_matrix = subatlas.to_df()[markers].values\n",
    "markers_idx = pd.DataFrame({'markers_idx': np.arange(num_genes)}, index=gene_names)\n",
    "markers_to_use = np.concatenate(markers_idx.loc[markers].values)\n",
    "\n",
    "# alternative 1: setup both assumptions \n",
    "# Comme on a un atlas ce coup-ci, on peut utiliser setup_reconstruction. Il est également possible de calculer les matrices séparemments (alternative 2)\n",
    "tissue.setup_reconstruction(atlas_matrix=atlas_matrix, \n",
    "                            markers_to_use=markers_to_use, \n",
    "                            num_neighbors_s=num_neighbors_s, \n",
    "                            num_neighbors_t=num_neighbors_t)\n",
    "\n",
    "# alternative 2: handling each assumption separately\n",
    "#tissue.setup_smooth_costs(dge_rep=dge_rep)\n",
    "#tissue.setup_linear_cost(markers_to_use, atlas_matrix)"
   ]
  },
  {
   "cell_type": "code",
   "execution_count": 11,
   "id": "70c343d5-6d0e-4cb1-9fbb-780069857a6b",
   "metadata": {},
   "outputs": [
    {
     "name": "stdout",
     "output_type": "stream",
     "text": [
      "Reconstructing spatial information with 80 markers: 1297 cells and 3039 locations ... \n",
      "Trying with epsilon: 5.00e-03\n"
     ]
    }
   ],
   "source": [
    "alpha_linear = 0.35\n",
    "epsilon = 5e-3\n",
    "tissue.reconstruct(alpha_linear=alpha_linear, epsilon=epsilon)"
   ]
  },
  {
   "cell_type": "code",
   "execution_count": 12,
   "id": "e99e8efc-cd24-4093-b6da-a9cc23a8239e",
   "metadata": {},
   "outputs": [
    {
     "name": "stderr",
     "output_type": "stream",
     "text": [
      "/home/baptiste/miniconda3/envs/novopaper/lib/python3.10/site-packages/anndata/_core/anndata.py:183: ImplicitModificationWarning: Transforming to str index.\n",
      "  warnings.warn(\"Transforming to str index.\", ImplicitModificationWarning)\n"
     ]
    }
   ],
   "source": [
    "sdge = tissue.sdge # simulated diferential gne expression\n",
    "dataset_reconst = sc.AnnData(pd.DataFrame(sdge.T, columns=gene_names))\n",
    "dataset_reconst.obsm['spatial'] = locations_apriori"
   ]
  },
  {
   "cell_type": "code",
   "execution_count": 17,
   "id": "be7dfa81-f49c-4a63-8853-11f6d484d949",
   "metadata": {},
   "outputs": [],
   "source": [
    "embedding_3D_plotly(dataset_reconst,[\"ImpE2\"],title_fig=\"Zinzen_ImpE2.png\",screenshot=True,PCR_mode=False,threshold=0,pal=\"ice\")"
   ]
  },
  {
   "cell_type": "code",
   "execution_count": 18,
   "id": "0e8b1d2f-0632-4391-88c2-fbc49a0c4a8a",
   "metadata": {},
   "outputs": [],
   "source": [
    "embedding_3D_plotly(dataset_reconst,[\"sna\"],title_fig=\"Zinzen_sna.png\",screenshot=True,PCR_mode=False,threshold=0,pal=\"ice\")"
   ]
  },
  {
   "cell_type": "code",
   "execution_count": 19,
   "id": "4a8d0833-01ed-4066-a0e2-59c1d1670cb3",
   "metadata": {},
   "outputs": [],
   "source": [
    "embedding_3D_plotly(dataset_reconst,[\"eve\"],title_fig=\"Zinzen_eve.png\",screenshot=True,PCR_mode=False,threshold=0,pal=\"ice\")"
   ]
  },
  {
   "cell_type": "code",
   "execution_count": 16,
   "id": "77eeedec-4895-4b9a-a5db-38f3609ad990",
   "metadata": {},
   "outputs": [],
   "source": [
    "embedding_3D_plotly(dataset_reconst,[\"sca\"],title_fig=\"Zinzen_sca.png\",screenshot=True,PCR_mode=False,threshold=0,pal=\"ice\")"
   ]
  },
  {
   "cell_type": "code",
   "execution_count": 20,
   "id": "0759633e-8a79-4b39-bd31-a31203543e7c",
   "metadata": {},
   "outputs": [],
   "source": [
    "embedding_3D_plotly(dataset_reconst,[\"vnd\"],title_fig=\"Zinzen_vnd.png\",screenshot=True,PCR_mode=False,threshold=0,pal=\"ice\")"
   ]
  },
  {
   "cell_type": "code",
   "execution_count": 21,
   "id": "82bbe57d-f86e-4591-a944-f6e6c6281096",
   "metadata": {},
   "outputs": [],
   "source": [
    "embedding_3D_plotly(dataset_reconst,[\"Lim1\"],title_fig=\"Zinzen_Lim1.png\",screenshot=True,PCR_mode=False,threshold=0,pal=\"ice\")"
   ]
  },
  {
   "cell_type": "code",
   "execution_count": 23,
   "id": "32b2cb6e-da20-4630-98b6-3ee04b7744dd",
   "metadata": {},
   "outputs": [],
   "source": [
    "embedding_3D_plotly(dataset_reconst,[\"Mef2\"],title_fig=\"Zinzen_Mef2.png\",screenshot=True,PCR_mode=False,threshold=0,pal=\"ice\")"
   ]
  },
  {
   "cell_type": "code",
   "execution_count": 24,
   "id": "cb43ddbe-b2ba-423a-b3f7-f92591b555c2",
   "metadata": {},
   "outputs": [],
   "source": [
    "embedding_3D_plotly(dataset_reconst,[\"opa\"],title_fig=\"Zinzen_opa.png\",screenshot=True,PCR_mode=False,threshold=0,pal=\"ice\")"
   ]
  }
 ],
 "metadata": {
  "kernelspec": {
   "display_name": "Python 3 (ipykernel)",
   "language": "python",
   "name": "python3"
  },
  "language_info": {
   "codemirror_mode": {
    "name": "ipython",
    "version": 3
   },
   "file_extension": ".py",
   "mimetype": "text/x-python",
   "name": "python",
   "nbconvert_exporter": "python",
   "pygments_lexer": "ipython3",
   "version": "3.10.13"
  }
 },
 "nbformat": 4,
 "nbformat_minor": 5
}
