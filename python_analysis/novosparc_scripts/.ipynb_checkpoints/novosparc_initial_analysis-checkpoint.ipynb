{
 "cells": [
  {
   "cell_type": "markdown",
   "id": "e325ad28-f6f9-412a-be9a-52e10a1e60d6",
   "metadata": {},
   "source": [
    "# Aim of the script"
   ]
  },
  {
   "cell_type": "markdown",
   "id": "84dc421b-8dcb-49ac-b71a-4b4169057f51",
   "metadata": {},
   "source": [
    "In this script, we run the major steps of the novoSpaRc pipeline. It follows mainly the novoSpaRc tutorial accessible here: https://github.com/rajewsky-lab/novosparc/blob/master/reconstruct_drosophila_embryo_tutorial.ipynb <br>\n",
    "The steps are:\n",
    "- loading data and atlas\n",
    "- setting up the reconstruction\n",
    "- generate the reconstruction\n",
    "- visualisation <br>\n",
    "\n",
    "As information are comming from both the single-cell and the PCR sequencing, the last part of the notebook is dedicted to merging them together and to generate images from them. <br>\n",
    "Last, we developped several functions for novoSpaRc. They are all presented in the **home_functions.py** script and are imported here."
   ]
  },
  {
   "cell_type": "markdown",
   "id": "d7bb9108-57e1-43ff-b4b2-65dad909a71a",
   "metadata": {},
   "source": [
    "# Packages"
   ]
  },
  {
   "cell_type": "code",
   "execution_count": 1,
   "id": "60d1a731-ba93-4c48-883d-eea51d438bb3",
   "metadata": {},
   "outputs": [],
   "source": [
    "# imports\n",
    "%matplotlib inline\n",
    "import novosparc\n",
    "\n",
    "import os\n",
    "import cv2\n",
    "import numpy as np\n",
    "import pandas as pd\n",
    "import pandas.plotting\n",
    "import scanpy as sc\n",
    "import plotly.express as px\n",
    "import plotly.graph_objs as go\n",
    "from plotly.subplots import make_subplots\n",
    "import matplotlib.pyplot as plt\n",
    "import matplotlib.colors\n",
    "from matplotlib.animation import FuncAnimation\n",
    "import altair as alt\n",
    "from scipy.spatial.distance import cdist, squareform, pdist\n",
    "from scipy.stats import ks_2samp\n",
    "from scipy.stats import pearsonr\n",
    "from ipywidgets import interact, HBox, VBox, Output\n",
    "import kaleido\n",
    "\n",
    "import copy\n",
    "\n",
    "from ot.bregman import sinkhorn\n",
    "import scipy.stats as stats\n",
    "from sklearn.neighbors import kneighbors_graph\n",
    "\n",
    "import home_functions\n",
    "\n",
    "import random\n",
    "random.seed(0)"
   ]
  },
  {
   "cell_type": "markdown",
   "id": "e0c39ae7-df0d-4184-a3df-93dceb4cea44",
   "metadata": {},
   "source": [
    "# Loading data and atlas"
   ]
  },
  {
   "cell_type": "markdown",
   "id": "c336b10a-a252-491a-bae7-346102b1632d",
   "metadata": {},
   "source": [
    "Loading first the dataset from Seurat and converting it to an AnnData object"
   ]
  },
  {
   "cell_type": "code",
   "execution_count": 4,
   "id": "b56e7f6a-9dc1-4f79-8f7f-3661558913ca",
   "metadata": {},
   "outputs": [
    {
     "name": "stdout",
     "output_type": "stream",
     "text": [
      "number of cells: 5475\n",
      "number of genes: 16215\n"
     ]
    }
   ],
   "source": [
    "data_dir = '../R_analyses/stade6/phase5_final_time/'\n",
    "data_path = os.path.join(data_dir, 'matrice_6_int_less_clusters.csv')\n",
    "dataset = sc.read(data_path).T \n",
    "gene_names = dataset.var.index.tolist() \n",
    "\n",
    "num_cells, num_genes = dataset.shape \n",
    "\n",
    "print('number of cells: %d' % num_cells)\n",
    "print('number of genes: %d' % num_genes)"
   ]
  },
  {
   "cell_type": "markdown",
   "id": "9421474d-aabc-4e8e-81e4-96ae7e3a3994",
   "metadata": {},
   "source": [
    "In second, we load the atlas."
   ]
  },
  {
   "cell_type": "code",
   "execution_count": 5,
   "id": "eb990d93-c9c2-48e0-bdb1-547f628e0dfa",
   "metadata": {
    "scrolled": true
   },
   "outputs": [
    {
     "name": "stdout",
     "output_type": "stream",
     "text": [
      "[[-194.04    0.22   30.2 ]\n",
      " [-203.32    1.93   20.08]\n",
      " [-200.25    3.59   23.93]\n",
      " ...\n",
      " [-118.4    33.4   -48.86]\n",
      " [ -20.05    3.22  -78.11]\n",
      " [  -0.25   21.24   63.68]]\n",
      "3039\n"
     ]
    }
   ],
   "source": [
    "atlas_dir = '../../novosparc/novosparc/datasets/bdtnp/'\n",
    "target_space_path = os.path.join(atlas_dir, 'geometry.txt') \n",
    "locations = pd.read_csv(target_space_path, sep=' ')\n",
    "num_locations = 3039 \n",
    "locations_apriori = locations[:num_locations][['xcoord', 'ycoord', 'zcoord']].values \n",
    "\n",
    "atlas_path = os.path.join(atlas_dir, 'dge.txt')\n",
    "atlas = sc.read(atlas_path) \n",
    "atlas.obsm['spatial'] = locations_apriori\n",
    "\n",
    "atlas_genes=atlas.var.index.tolist()"
   ]
  },
  {
   "cell_type": "markdown",
   "id": "c7e3da37-3993-45a0-8915-60960b517cce",
   "metadata": {},
   "source": [
    "Last, we process the dataset with normalization and highly variable gene selections. "
   ]
  },
  {
   "cell_type": "code",
   "execution_count": 9,
   "id": "9502aeeb-1656-4220-8cbc-d280256e2edb",
   "metadata": {},
   "outputs": [],
   "source": [
    "sc.pp.normalize_total(dataset)\n",
    "sc.pp.log1p(dataset)"
   ]
  },
  {
   "cell_type": "code",
   "execution_count": 10,
   "id": "2d74ad28-d917-46fc-b48a-7ff1ad7793d3",
   "metadata": {},
   "outputs": [
    {
     "name": "stderr",
     "output_type": "stream",
     "text": [
      "/home/baptiste/miniconda3/envs/novopaper/lib/python3.10/site-packages/scanpy/preprocessing/_highly_variable_genes.py:215: FutureWarning: The default of observed=False is deprecated and will be changed to True in a future version of pandas. Pass observed=False to retain current behavior or observed=True to adopt the future default and silence this warning.\n",
      "  disp_grouped = df.groupby('mean_bin')['dispersions']\n"
     ]
    }
   ],
   "source": [
    "dge_rep = None \n",
    "sc.pp.highly_variable_genes(dataset) \n",
    "is_var_gene = dataset.var['highly_variable'] \n",
    "var_genes = list(is_var_gene.index[is_var_gene]) \n",
    "dge_rep=dataset.to_df()[var_genes] "
   ]
  },
  {
   "cell_type": "markdown",
   "id": "ab3ba415-f5ee-43b1-8543-1fd473421728",
   "metadata": {},
   "source": [
    "## Setting the reconstruction"
   ]
  },
  {
   "cell_type": "code",
   "execution_count": 12,
   "id": "daab98d5-fe0f-4a04-a032-bd5f356b263a",
   "metadata": {},
   "outputs": [],
   "source": [
    "tissue = novosparc.cm.Tissue(dataset=dataset, locations=locations_apriori)"
   ]
  },
  {
   "cell_type": "code",
   "execution_count": 13,
   "id": "ee63e0e1-7388-447e-acb9-213f8f4c9bfc",
   "metadata": {},
   "outputs": [
    {
     "name": "stdout",
     "output_type": "stream",
     "text": [
      "Setting up for reconstruction ... done ( 15.6 seconds )\n"
     ]
    }
   ],
   "source": [
    "# params for smooth cost\n",
    "num_neighbors_s = 3\n",
    "num_neighbors_t = 5\n",
    "\n",
    "# params for linear cost\n",
    "markers = list(set(atlas_genes).intersection(gene_names)) # On ne va utiliser que les gènes en communs entre l'atlas et le jeu de données\n",
    "atlas_matrix = subatlas.to_df()[markers].values\n",
    "markers_idx = pd.DataFrame({'markers_idx': np.arange(num_genes)}, index=gene_names)\n",
    "markers_to_use = np.concatenate(markers_idx.loc[markers].values)\n",
    "\n",
    "# alternative 1: setup both assumptions \n",
    "# Comme on a un atlas ce coup-ci, on peut utiliser setup_reconstruction. Il est également possible de calculer les matrices séparemments (alternative 2)\n",
    "tissue.setup_reconstruction(atlas_matrix=atlas_matrix, \n",
    "                            markers_to_use=markers_to_use, \n",
    "                            num_neighbors_s=num_neighbors_s, \n",
    "                            num_neighbors_t=num_neighbors_t)\n",
    "\n",
    "# alternative 2: handling each assumption separately\n",
    "#tissue.setup_smooth_costs(dge_rep=dge_rep)\n",
    "#tissue.setup_linear_cost(markers_to_use, atlas_matrix)"
   ]
  },
  {
   "cell_type": "code",
   "execution_count": 14,
   "id": "71273db9-84be-41ad-8cd0-8309902a4777",
   "metadata": {},
   "outputs": [
    {
     "name": "stdout",
     "output_type": "stream",
     "text": [
      "Reconstructing spatial information with 84 markers: 5475 cells and 3039 locations ... \n",
      "Trying with epsilon: 5.00e-03\n"
     ]
    }
   ],
   "source": [
    "alpha_linear = 0.35\n",
    "epsilon = 5e-3"
   ]
  },
  {
   "cell_type": "markdown",
   "id": "d526516c-1318-47f0-918e-7739cec3579a",
   "metadata": {},
   "source": [
    "## Generate the reconstruction"
   ]
  },
  {
   "cell_type": "code",
   "execution_count": null,
   "id": "39e6da07-9aac-4a1e-a39a-4753c7dd8966",
   "metadata": {},
   "outputs": [],
   "source": [
    "tissue.reconstruct(alpha_linear=alpha_linear, epsilon=epsilon)"
   ]
  },
  {
   "cell_type": "code",
   "execution_count": 15,
   "id": "cd6c85b9-5f0b-4527-b283-ec9eb3b2cde6",
   "metadata": {},
   "outputs": [
    {
     "name": "stderr",
     "output_type": "stream",
     "text": [
      "/home/baptiste/miniconda3/envs/novopaper/lib/python3.10/site-packages/anndata/_core/anndata.py:183: ImplicitModificationWarning: Transforming to str index.\n",
      "  warnings.warn(\"Transforming to str index.\", ImplicitModificationWarning)\n"
     ]
    }
   ],
   "source": [
    "### reconstructed expression of individual genes\n",
    "sdge = tissue.sdge # simulated diferential gne expression\n",
    "dataset_reconst = sc.AnnData(pd.DataFrame(sdge.T, columns=gene_names))\n",
    "dataset_reconst.obsm['spatial'] = locations_apriori"
   ]
  },
  {
   "cell_type": "markdown",
   "id": "4104d9dc-2db8-4e6b-9b16-df51d53c62e1",
   "metadata": {},
   "source": [
    "## Visualisation of the reconstruction with several examples from the single-cell data only"
   ]
  },
  {
   "cell_type": "markdown",
   "id": "f84f9270-84d0-4529-84e9-808cf6005174",
   "metadata": {},
   "source": [
    "The visualisation function from novoSpaRc was modified and is accessible in the **home_function.py** script. <br>\n",
    "With it you can either check the reconstruction in 3D for a specific gene/enhancer, or generate images of the reconstruction for a list of genes/enhancers."
   ]
  },
  {
   "cell_type": "code",
   "execution_count": 29,
   "id": "63f7d43d-0360-44c0-8234-e8b49b38bbe2",
   "metadata": {},
   "outputs": [],
   "source": [
    "embedding_3D_plotly(dataset_reconst,[\"CG42693\"],threshold=0,pal=\"ice\")"
   ]
  },
  {
   "cell_type": "code",
   "execution_count": 17,
   "id": "33c3b156-4abf-4b7a-8381-a91007afe0f3",
   "metadata": {},
   "outputs": [],
   "source": [
    "list_genes=[\"bowl\",\"CadN\",\"eve\",\"h\",\"ImpL2\",\"opa\",\"otp\",\"prd\",\"Psc\",\"Pvf3\",\"rib\",\"salm\",\"sca\",\"shg\",\"Smyd4-3\",\"SoxN\",\"sty\",\"Trim9\",\"ttk\",\"twi\",\"veil\",\"vn\",\"vnd\",\"Zip71B\"]"
   ]
  },
  {
   "cell_type": "code",
   "execution_count": 21,
   "id": "4764c4ee-5020-443b-8bce-eb6034123459",
   "metadata": {},
   "outputs": [],
   "source": [
    "for elem in list_genes:\n",
    "    embedding_3D_plotly(dataset_reconst,[elem],title_fig=\"sc_\"+elem,screenshot=True,threshold=0,pal=\"ice\")"
   ]
  },
  {
   "cell_type": "code",
   "execution_count": 93,
   "id": "76c72133-b99d-49c1-86c4-b29dda31dfd5",
   "metadata": {},
   "outputs": [],
   "source": [
    "list_enhancer=[\"eve-late-variant\",\"h-stripe1\",\"salm-blastoderm-early-enhancer\",\"twi-CHIP-42\",\"Vnd-743\",\"CHIP-27\",\"prd01\",\"shg-A\",\n",
    "                \"SoxN-5830\",\"GMR77A12\",\"GMR83E01\",\"CRM1\",\"CRM2\",\"CRM3\",\"CRM4\",\"CRM6\",\"CRM7\",\"CRM9\",\"CRM10\",\"CRM11\",\"CRM12\",\"CRM13\"]"
   ]
  },
  {
   "cell_type": "code",
   "execution_count": 94,
   "id": "1506738c-24e7-41a0-8285-7549867182d1",
   "metadata": {},
   "outputs": [],
   "source": [
    "for elem in list_enhancer:\n",
    "    embedding_3D_plotly(dataset_reconst,[elem],title_fig=\"sc_\"+elem,screenshot=True,threshold=0)"
   ]
  },
  {
   "cell_type": "markdown",
   "id": "fadeb9f2-e8fd-435b-b7e4-9667e8057791",
   "metadata": {},
   "source": [
    "# Adding the PCR targeted amplification in the reconstruction"
   ]
  },
  {
   "cell_type": "markdown",
   "id": "b8a3fdde-5058-4936-97a2-b54377e0b4c7",
   "metadata": {},
   "source": [
    "In this part, the cell-enhancer pairs detected with the targeted PCR sequencing are incorporated into the reconstruction. <br>\n",
    "As this informatio is qualitative (presence or abscence of enhancer in a cell), we can not work on expression level like in the previous visualisations. Two functions were developped in order to compute the presence probability of a list of cell across the whole embryo. <br>\n",
    "In the first part, only the information from the PCR are projected on the embryo, while in the second part, the mixed of both scRNA-seq and PCR are projected on the embryo."
   ]
  },
  {
   "cell_type": "code",
   "execution_count": 29,
   "id": "ff361f7d-5d3e-443c-b6ac-172b67041f75",
   "metadata": {},
   "outputs": [
    {
     "data": {
      "text/plain": [
       "str"
      ]
     },
     "execution_count": 29,
     "metadata": {},
     "output_type": "execute_result"
    }
   ],
   "source": [
    "df_list_enhancers_PCR=pandas.read_csv(\"PCR/stade6/lists_cells_for_each_enhancer_reduced_version_merged.tsv\",sep=\"\\t\")\n",
    "new_df_PCR=pandas.DataFrame(columns=['enhancer','list_cells'])\n",
    "type(df_list_enhancers_PCR[\"liste\"][0])"
   ]
  },
  {
   "cell_type": "code",
   "execution_count": 19,
   "id": "3c9edfbf-e9cc-41ed-8e63-38646c648057",
   "metadata": {},
   "outputs": [],
   "source": [
    "df_list_enhancers_PCR=pandas.read_csv(\"PCR/stade6/lists_cells_for_each_enhancer_reduced_version_merged.tsv\",sep=\"\\t\")\n",
    "new_df_PCR=pandas.DataFrame(columns=['enhancer','list_cells'])\n",
    "for elem in df_list_enhancers_PCR[\"enhancer\"].tolist():\n",
    "    ligne=df_list_enhancers_PCR[df_list_enhancers_PCR[\"enhancer\"]==elem]\n",
    "    list_cell_elem=(ligne[\"liste\"].values)[0]\n",
    "    split_list=list_cell_elem.split(\",\")\n",
    "    new_df_PCR.loc[len(new_df_PCR)]=[elem,split_list]"
   ]
  },
  {
   "cell_type": "code",
   "execution_count": 95,
   "id": "0c006a8e-685b-453a-81c6-550cf238a688",
   "metadata": {},
   "outputs": [],
   "source": [
    "for elem in new_df_PCR[\"enhancer\"].tolist():\n",
    "    list_cell_elem=(new_df_PCR[\"list_cells\"][new_df_PCR[\"enhancer\"]==elem].values)[0]\n",
    "    index_cell_elem=find_index(dataset,list_cell_elem)\n",
    "    dataset_test_elem=prob_distributions(tissue,dataset_reconst,index_cell_elem)\n",
    "    embedding_3D_plotly(dataset_test_elem,[\"sum\"],title_fig=\"PCR\"+elem,screenshot=True,PCR_mode=True,threshold=0)"
   ]
  },
  {
   "cell_type": "markdown",
   "id": "5fc35b9e-033c-416c-8d33-007d300ef010",
   "metadata": {},
   "source": [
    "# Joining both sc and PCR in the same table"
   ]
  },
  {
   "cell_type": "code",
   "execution_count": 22,
   "id": "59d923f7-8fdc-4579-a297-8e6c73ef62d1",
   "metadata": {},
   "outputs": [],
   "source": [
    "list_cells_sc=pandas.read_csv(\"../R_analyses/stade6/phase5_final_time/Id_cells_with_enhancers_sc_less_clusters.csv\",index_col=0)\n",
    "new_df_SC=pandas.DataFrame(columns=['enhancer','list_cells'])\n",
    "for elem in list_cells_sc[\"enhancer\"]:\n",
    "    ligne=list_cells_sc[list_cells_sc[\"enhancer\"]==elem]\n",
    "    list_cell_elem=(ligne[\"sc_cells\"].values)[0]\n",
    "    split_list=list_cell_elem.split(\",\")\n",
    "    new_df_SC.loc[len(new_df_SC)]=[elem,split_list]"
   ]
  },
  {
   "cell_type": "code",
   "execution_count": 23,
   "id": "12f7b777-3dda-4bb2-bc40-1ac144c91897",
   "metadata": {},
   "outputs": [
    {
     "data": {
      "text/html": [
       "<div>\n",
       "<style scoped>\n",
       "    .dataframe tbody tr th:only-of-type {\n",
       "        vertical-align: middle;\n",
       "    }\n",
       "\n",
       "    .dataframe tbody tr th {\n",
       "        vertical-align: top;\n",
       "    }\n",
       "\n",
       "    .dataframe thead th {\n",
       "        text-align: right;\n",
       "    }\n",
       "</style>\n",
       "<table border=\"1\" class=\"dataframe\">\n",
       "  <thead>\n",
       "    <tr style=\"text-align: right;\">\n",
       "      <th></th>\n",
       "      <th>enhancer</th>\n",
       "      <th>list_cells_x</th>\n",
       "      <th>list_cells_y</th>\n",
       "    </tr>\n",
       "  </thead>\n",
       "  <tbody>\n",
       "    <tr>\n",
       "      <th>0</th>\n",
       "      <td>EcadN</td>\n",
       "      <td>[rep1_CAAGAGGCACCCGTAG, rep1_TTGAGTGCAATCTAGC,...</td>\n",
       "      <td>[]</td>\n",
       "    </tr>\n",
       "    <tr>\n",
       "      <th>1</th>\n",
       "      <td>Eeve</td>\n",
       "      <td>[rep1_GAATCGTAGATGGCAC, rep2_CAGGCCAAGTCTGCGC,...</td>\n",
       "      <td>[rep1_ACATCGATCTCCCTAG, rep1_TTCACCGGTCCACAGC,...</td>\n",
       "    </tr>\n",
       "    <tr>\n",
       "      <th>2</th>\n",
       "      <td>Ehstripe1</td>\n",
       "      <td>[rep2_CAGATTGTCTAGTTCT, rep2_CTCCTCCAGCCGAACA,...</td>\n",
       "      <td>[rep2_AAGTGAAAGACCGCCT, rep3_CTTCTAAAGACGCAGT,...</td>\n",
       "    </tr>\n",
       "    <tr>\n",
       "      <th>3</th>\n",
       "      <td>EImpL2</td>\n",
       "      <td>[rep1_CCCTGATGTTGACTGT, rep1_CTCAAGAAGAGATCGC,...</td>\n",
       "      <td>[rep1_CCCTGATGTTGACTGT, rep1_TGCGACGAGTCACACT,...</td>\n",
       "    </tr>\n",
       "    <tr>\n",
       "      <th>4</th>\n",
       "      <td>Eopa</td>\n",
       "      <td>[rep1_AACCTTTCATCAGCAT, rep1_AAGAACATCCGTGACG,...</td>\n",
       "      <td>[rep1_ATCATTCAGCATCCTA, rep1_TCTACCGCACTAACCA,...</td>\n",
       "    </tr>\n",
       "    <tr>\n",
       "      <th>5</th>\n",
       "      <td>Eotp</td>\n",
       "      <td>[rep3_TGGGCTGGTGCGGATA]</td>\n",
       "      <td>[rep3_GTGTTCCTCGCCATAA, rep3_GTTACCCAGGGCAACT]</td>\n",
       "    </tr>\n",
       "    <tr>\n",
       "      <th>6</th>\n",
       "      <td>Eprd01</td>\n",
       "      <td>[rep1_AAAGTCCAGTGCTCGC, rep1_TCTCCGATCCATAAGC,...</td>\n",
       "      <td>[rep1_TCTCCGATCCATAAGC, rep1_GGGCTCAAGGGCATGT,...</td>\n",
       "    </tr>\n",
       "    <tr>\n",
       "      <th>7</th>\n",
       "      <td>Epvf3</td>\n",
       "      <td>[rep1_ACATCGATCTCCCTAG, rep1_CCACGAGAGTAGACCG,...</td>\n",
       "      <td>[rep1_TGATCAGCAAGACCGA, rep1_AGGATAAGTGTGTTTG,...</td>\n",
       "    </tr>\n",
       "    <tr>\n",
       "      <th>8</th>\n",
       "      <td>Erib</td>\n",
       "      <td>[rep1_ACACGCGGTCCGGACT, rep3_CCTCCTCAGATTGCGG,...</td>\n",
       "      <td>[]</td>\n",
       "    </tr>\n",
       "    <tr>\n",
       "      <th>9</th>\n",
       "      <td>Esalm</td>\n",
       "      <td>[rep1_AACAGGGGTAGGAGGG, rep1_AAGTTCGGTGCCTGCA,...</td>\n",
       "      <td>[rep1_TATTCCAGTCAAGTTC, rep1_AACAGGGGTAGGAGGG,...</td>\n",
       "    </tr>\n",
       "    <tr>\n",
       "      <th>10</th>\n",
       "      <td>Esca</td>\n",
       "      <td>[rep1_AGAACCTAGATCGACG, rep1_ATCCACCTCCAGCAAT,...</td>\n",
       "      <td>[rep1_ATTTACCGTGCTGATT, rep1_AGAACCTAGATCGACG,...</td>\n",
       "    </tr>\n",
       "    <tr>\n",
       "      <th>11</th>\n",
       "      <td>Eshg</td>\n",
       "      <td>[rep1_ACACGCGAGTGAATAC, rep1_ACCCTTGCACTCCGGA,...</td>\n",
       "      <td>[rep1_ACACGCGAGTGAATAC, rep1_GATTCTTCAGACATCT,...</td>\n",
       "    </tr>\n",
       "    <tr>\n",
       "      <th>12</th>\n",
       "      <td>ESoxN</td>\n",
       "      <td>[rep1_CACTGAACAGGAGGTT, rep1_GTCTCACGTATATGGA,...</td>\n",
       "      <td>[rep1_TCAAGCACATAATGAG, rep1_ACCTGTCCAATCTGCA,...</td>\n",
       "    </tr>\n",
       "    <tr>\n",
       "      <th>13</th>\n",
       "      <td>Esty</td>\n",
       "      <td>[rep1_ACACAGTTCTACGGGC, rep1_AGTGATCGTACTCGAT,...</td>\n",
       "      <td>[rep1_GGGAGTAAGGTCGTAG, rep1_ACACAGTTCTACGGGC,...</td>\n",
       "    </tr>\n",
       "    <tr>\n",
       "      <th>14</th>\n",
       "      <td>Esty2</td>\n",
       "      <td>[rep1_GCTTGGGTCCATCTAT]</td>\n",
       "      <td>[rep2_TCAAGTGCATACTGTG]</td>\n",
       "    </tr>\n",
       "    <tr>\n",
       "      <th>15</th>\n",
       "      <td>Etrim9</td>\n",
       "      <td>[rep1_AAAGGTAGTAATGATG, rep1_AAAGTCCAGTGCTCGC,...</td>\n",
       "      <td>[rep1_ACCATTTCATCGTGGC, rep1_GTCTAGAAGTAGAATC,...</td>\n",
       "    </tr>\n",
       "    <tr>\n",
       "      <th>16</th>\n",
       "      <td>Ettk</td>\n",
       "      <td>[rep1_AGTAGTCGTTCAAGTC, rep1_CAGATCAAGCCACCGT,...</td>\n",
       "      <td>[]</td>\n",
       "    </tr>\n",
       "    <tr>\n",
       "      <th>17</th>\n",
       "      <td>EtwiE3</td>\n",
       "      <td>[rep1_AAGTTCGAGACCAGAC, rep1_ACGGGTCTCCATCTCG,...</td>\n",
       "      <td>[rep1_GTTCCGTCATCCGTTC, rep1_AAGTTCGAGACCAGAC,...</td>\n",
       "    </tr>\n",
       "    <tr>\n",
       "      <th>18</th>\n",
       "      <td>Eveil</td>\n",
       "      <td>[rep1_GTGCGTGTCAGACCCG, rep1_TAGGTACCAGCTGGTC,...</td>\n",
       "      <td>[]</td>\n",
       "    </tr>\n",
       "    <tr>\n",
       "      <th>19</th>\n",
       "      <td>Evn</td>\n",
       "      <td>[rep1_ATCTCTAGTGGTACAG, rep1_ATGGAGGTCGACATAC,...</td>\n",
       "      <td>[rep1_TCGCTCACAGCAGTCC, rep1_TTCTTCCTCATTTCCA,...</td>\n",
       "    </tr>\n",
       "    <tr>\n",
       "      <th>20</th>\n",
       "      <td>Evnd743</td>\n",
       "      <td>[rep1_ACCTGTCCAATCTGCA, rep1_AGCCAGCAGAGCTTTC,...</td>\n",
       "      <td>[]</td>\n",
       "    </tr>\n",
       "    <tr>\n",
       "      <th>21</th>\n",
       "      <td>EZip71B</td>\n",
       "      <td>[rep1_CATCGTCCACTCGATA, rep1_CTGTAGAAGTTGAAAC,...</td>\n",
       "      <td>[rep3_GGTTCTCCAACTGTGT]</td>\n",
       "    </tr>\n",
       "    <tr>\n",
       "      <th>22</th>\n",
       "      <td>EeveS2</td>\n",
       "      <td>[]</td>\n",
       "      <td>[rep2_CATACCCGTTGCTCCT, rep3_GGGACCTAGACATATG]</td>\n",
       "    </tr>\n",
       "  </tbody>\n",
       "</table>\n",
       "</div>"
      ],
      "text/plain": [
       "     enhancer                                       list_cells_x  \\\n",
       "0       EcadN  [rep1_CAAGAGGCACCCGTAG, rep1_TTGAGTGCAATCTAGC,...   \n",
       "1        Eeve  [rep1_GAATCGTAGATGGCAC, rep2_CAGGCCAAGTCTGCGC,...   \n",
       "2   Ehstripe1  [rep2_CAGATTGTCTAGTTCT, rep2_CTCCTCCAGCCGAACA,...   \n",
       "3      EImpL2  [rep1_CCCTGATGTTGACTGT, rep1_CTCAAGAAGAGATCGC,...   \n",
       "4        Eopa  [rep1_AACCTTTCATCAGCAT, rep1_AAGAACATCCGTGACG,...   \n",
       "5        Eotp                            [rep3_TGGGCTGGTGCGGATA]   \n",
       "6      Eprd01  [rep1_AAAGTCCAGTGCTCGC, rep1_TCTCCGATCCATAAGC,...   \n",
       "7       Epvf3  [rep1_ACATCGATCTCCCTAG, rep1_CCACGAGAGTAGACCG,...   \n",
       "8        Erib  [rep1_ACACGCGGTCCGGACT, rep3_CCTCCTCAGATTGCGG,...   \n",
       "9       Esalm  [rep1_AACAGGGGTAGGAGGG, rep1_AAGTTCGGTGCCTGCA,...   \n",
       "10       Esca  [rep1_AGAACCTAGATCGACG, rep1_ATCCACCTCCAGCAAT,...   \n",
       "11       Eshg  [rep1_ACACGCGAGTGAATAC, rep1_ACCCTTGCACTCCGGA,...   \n",
       "12      ESoxN  [rep1_CACTGAACAGGAGGTT, rep1_GTCTCACGTATATGGA,...   \n",
       "13       Esty  [rep1_ACACAGTTCTACGGGC, rep1_AGTGATCGTACTCGAT,...   \n",
       "14      Esty2                            [rep1_GCTTGGGTCCATCTAT]   \n",
       "15     Etrim9  [rep1_AAAGGTAGTAATGATG, rep1_AAAGTCCAGTGCTCGC,...   \n",
       "16       Ettk  [rep1_AGTAGTCGTTCAAGTC, rep1_CAGATCAAGCCACCGT,...   \n",
       "17     EtwiE3  [rep1_AAGTTCGAGACCAGAC, rep1_ACGGGTCTCCATCTCG,...   \n",
       "18      Eveil  [rep1_GTGCGTGTCAGACCCG, rep1_TAGGTACCAGCTGGTC,...   \n",
       "19        Evn  [rep1_ATCTCTAGTGGTACAG, rep1_ATGGAGGTCGACATAC,...   \n",
       "20    Evnd743  [rep1_ACCTGTCCAATCTGCA, rep1_AGCCAGCAGAGCTTTC,...   \n",
       "21    EZip71B  [rep1_CATCGTCCACTCGATA, rep1_CTGTAGAAGTTGAAAC,...   \n",
       "22     EeveS2                                                 []   \n",
       "\n",
       "                                         list_cells_y  \n",
       "0                                                  []  \n",
       "1   [rep1_ACATCGATCTCCCTAG, rep1_TTCACCGGTCCACAGC,...  \n",
       "2   [rep2_AAGTGAAAGACCGCCT, rep3_CTTCTAAAGACGCAGT,...  \n",
       "3   [rep1_CCCTGATGTTGACTGT, rep1_TGCGACGAGTCACACT,...  \n",
       "4   [rep1_ATCATTCAGCATCCTA, rep1_TCTACCGCACTAACCA,...  \n",
       "5      [rep3_GTGTTCCTCGCCATAA, rep3_GTTACCCAGGGCAACT]  \n",
       "6   [rep1_TCTCCGATCCATAAGC, rep1_GGGCTCAAGGGCATGT,...  \n",
       "7   [rep1_TGATCAGCAAGACCGA, rep1_AGGATAAGTGTGTTTG,...  \n",
       "8                                                  []  \n",
       "9   [rep1_TATTCCAGTCAAGTTC, rep1_AACAGGGGTAGGAGGG,...  \n",
       "10  [rep1_ATTTACCGTGCTGATT, rep1_AGAACCTAGATCGACG,...  \n",
       "11  [rep1_ACACGCGAGTGAATAC, rep1_GATTCTTCAGACATCT,...  \n",
       "12  [rep1_TCAAGCACATAATGAG, rep1_ACCTGTCCAATCTGCA,...  \n",
       "13  [rep1_GGGAGTAAGGTCGTAG, rep1_ACACAGTTCTACGGGC,...  \n",
       "14                            [rep2_TCAAGTGCATACTGTG]  \n",
       "15  [rep1_ACCATTTCATCGTGGC, rep1_GTCTAGAAGTAGAATC,...  \n",
       "16                                                 []  \n",
       "17  [rep1_GTTCCGTCATCCGTTC, rep1_AAGTTCGAGACCAGAC,...  \n",
       "18                                                 []  \n",
       "19  [rep1_TCGCTCACAGCAGTCC, rep1_TTCTTCCTCATTTCCA,...  \n",
       "20                                                 []  \n",
       "21                            [rep3_GGTTCTCCAACTGTGT]  \n",
       "22     [rep2_CATACCCGTTGCTCCT, rep3_GGGACCTAGACATATG]  "
      ]
     },
     "execution_count": 23,
     "metadata": {},
     "output_type": "execute_result"
    }
   ],
   "source": [
    "df_list_sc_pcr_merged=new_df_SC.merge(new_df_PCR,on=\"enhancer\",how='outer')\n",
    "isna=df_list_sc_pcr_merged[\"list_cells_x\"].isna()\n",
    "df_list_sc_pcr_merged.loc[isna,\"list_cells_x\"] = pd.Series([[]] * isna.sum()).values\n",
    "isna=df_list_sc_pcr_merged[\"list_cells_y\"].isna()\n",
    "df_list_sc_pcr_merged.loc[isna,\"list_cells_y\"] = pd.Series([[]] * isna.sum()).values\n",
    "df_list_sc_pcr_merged"
   ]
  },
  {
   "cell_type": "code",
   "execution_count": 24,
   "id": "619e9d01-d892-4094-b1de-ad06544a8108",
   "metadata": {},
   "outputs": [
    {
     "data": {
      "text/html": [
       "<div>\n",
       "<style scoped>\n",
       "    .dataframe tbody tr th:only-of-type {\n",
       "        vertical-align: middle;\n",
       "    }\n",
       "\n",
       "    .dataframe tbody tr th {\n",
       "        vertical-align: top;\n",
       "    }\n",
       "\n",
       "    .dataframe thead th {\n",
       "        text-align: right;\n",
       "    }\n",
       "</style>\n",
       "<table border=\"1\" class=\"dataframe\">\n",
       "  <thead>\n",
       "    <tr style=\"text-align: right;\">\n",
       "      <th></th>\n",
       "      <th>enhancer</th>\n",
       "      <th>list_cells_x</th>\n",
       "      <th>list_cells_y</th>\n",
       "      <th>merged</th>\n",
       "    </tr>\n",
       "  </thead>\n",
       "  <tbody>\n",
       "    <tr>\n",
       "      <th>0</th>\n",
       "      <td>EcadN</td>\n",
       "      <td>[rep1_CAAGAGGCACCCGTAG, rep1_TTGAGTGCAATCTAGC,...</td>\n",
       "      <td>[]</td>\n",
       "      <td>[rep1_CAAGAGGCACCCGTAG, rep1_TTGAGTGCAATCTAGC,...</td>\n",
       "    </tr>\n",
       "    <tr>\n",
       "      <th>1</th>\n",
       "      <td>Eeve</td>\n",
       "      <td>[rep1_GAATCGTAGATGGCAC, rep2_CAGGCCAAGTCTGCGC,...</td>\n",
       "      <td>[rep1_ACATCGATCTCCCTAG, rep1_TTCACCGGTCCACAGC,...</td>\n",
       "      <td>[rep1_GAATCGTAGATGGCAC, rep2_CAGGCCAAGTCTGCGC,...</td>\n",
       "    </tr>\n",
       "    <tr>\n",
       "      <th>2</th>\n",
       "      <td>Ehstripe1</td>\n",
       "      <td>[rep2_CAGATTGTCTAGTTCT, rep2_CTCCTCCAGCCGAACA,...</td>\n",
       "      <td>[rep2_AAGTGAAAGACCGCCT, rep3_CTTCTAAAGACGCAGT,...</td>\n",
       "      <td>[rep2_CAGATTGTCTAGTTCT, rep2_CTCCTCCAGCCGAACA,...</td>\n",
       "    </tr>\n",
       "    <tr>\n",
       "      <th>3</th>\n",
       "      <td>EImpL2</td>\n",
       "      <td>[rep1_CCCTGATGTTGACTGT, rep1_CTCAAGAAGAGATCGC,...</td>\n",
       "      <td>[rep1_CCCTGATGTTGACTGT, rep1_TGCGACGAGTCACACT,...</td>\n",
       "      <td>[rep1_CCCTGATGTTGACTGT, rep1_CTCAAGAAGAGATCGC,...</td>\n",
       "    </tr>\n",
       "    <tr>\n",
       "      <th>4</th>\n",
       "      <td>Eopa</td>\n",
       "      <td>[rep1_AACCTTTCATCAGCAT, rep1_AAGAACATCCGTGACG,...</td>\n",
       "      <td>[rep1_ATCATTCAGCATCCTA, rep1_TCTACCGCACTAACCA,...</td>\n",
       "      <td>[rep1_AACCTTTCATCAGCAT, rep1_AAGAACATCCGTGACG,...</td>\n",
       "    </tr>\n",
       "    <tr>\n",
       "      <th>5</th>\n",
       "      <td>Eotp</td>\n",
       "      <td>[rep3_TGGGCTGGTGCGGATA]</td>\n",
       "      <td>[rep3_GTGTTCCTCGCCATAA, rep3_GTTACCCAGGGCAACT]</td>\n",
       "      <td>[rep3_TGGGCTGGTGCGGATA, rep3_GTGTTCCTCGCCATAA,...</td>\n",
       "    </tr>\n",
       "    <tr>\n",
       "      <th>6</th>\n",
       "      <td>Eprd01</td>\n",
       "      <td>[rep1_AAAGTCCAGTGCTCGC, rep1_TCTCCGATCCATAAGC,...</td>\n",
       "      <td>[rep1_TCTCCGATCCATAAGC, rep1_GGGCTCAAGGGCATGT,...</td>\n",
       "      <td>[rep1_AAAGTCCAGTGCTCGC, rep1_TCTCCGATCCATAAGC,...</td>\n",
       "    </tr>\n",
       "    <tr>\n",
       "      <th>7</th>\n",
       "      <td>Epvf3</td>\n",
       "      <td>[rep1_ACATCGATCTCCCTAG, rep1_CCACGAGAGTAGACCG,...</td>\n",
       "      <td>[rep1_TGATCAGCAAGACCGA, rep1_AGGATAAGTGTGTTTG,...</td>\n",
       "      <td>[rep1_ACATCGATCTCCCTAG, rep1_CCACGAGAGTAGACCG,...</td>\n",
       "    </tr>\n",
       "    <tr>\n",
       "      <th>8</th>\n",
       "      <td>Erib</td>\n",
       "      <td>[rep1_ACACGCGGTCCGGACT, rep3_CCTCCTCAGATTGCGG,...</td>\n",
       "      <td>[]</td>\n",
       "      <td>[rep1_ACACGCGGTCCGGACT, rep3_CCTCCTCAGATTGCGG,...</td>\n",
       "    </tr>\n",
       "    <tr>\n",
       "      <th>9</th>\n",
       "      <td>Esalm</td>\n",
       "      <td>[rep1_AACAGGGGTAGGAGGG, rep1_AAGTTCGGTGCCTGCA,...</td>\n",
       "      <td>[rep1_TATTCCAGTCAAGTTC, rep1_AACAGGGGTAGGAGGG,...</td>\n",
       "      <td>[rep1_AACAGGGGTAGGAGGG, rep1_AAGTTCGGTGCCTGCA,...</td>\n",
       "    </tr>\n",
       "    <tr>\n",
       "      <th>10</th>\n",
       "      <td>Esca</td>\n",
       "      <td>[rep1_AGAACCTAGATCGACG, rep1_ATCCACCTCCAGCAAT,...</td>\n",
       "      <td>[rep1_ATTTACCGTGCTGATT, rep1_AGAACCTAGATCGACG,...</td>\n",
       "      <td>[rep1_AGAACCTAGATCGACG, rep1_ATCCACCTCCAGCAAT,...</td>\n",
       "    </tr>\n",
       "    <tr>\n",
       "      <th>11</th>\n",
       "      <td>Eshg</td>\n",
       "      <td>[rep1_ACACGCGAGTGAATAC, rep1_ACCCTTGCACTCCGGA,...</td>\n",
       "      <td>[rep1_ACACGCGAGTGAATAC, rep1_GATTCTTCAGACATCT,...</td>\n",
       "      <td>[rep1_ACACGCGAGTGAATAC, rep1_ACCCTTGCACTCCGGA,...</td>\n",
       "    </tr>\n",
       "    <tr>\n",
       "      <th>12</th>\n",
       "      <td>ESoxN</td>\n",
       "      <td>[rep1_CACTGAACAGGAGGTT, rep1_GTCTCACGTATATGGA,...</td>\n",
       "      <td>[rep1_TCAAGCACATAATGAG, rep1_ACCTGTCCAATCTGCA,...</td>\n",
       "      <td>[rep1_CACTGAACAGGAGGTT, rep1_GTCTCACGTATATGGA,...</td>\n",
       "    </tr>\n",
       "    <tr>\n",
       "      <th>13</th>\n",
       "      <td>Esty</td>\n",
       "      <td>[rep1_ACACAGTTCTACGGGC, rep1_AGTGATCGTACTCGAT,...</td>\n",
       "      <td>[rep1_GGGAGTAAGGTCGTAG, rep1_ACACAGTTCTACGGGC,...</td>\n",
       "      <td>[rep1_ACACAGTTCTACGGGC, rep1_AGTGATCGTACTCGAT,...</td>\n",
       "    </tr>\n",
       "    <tr>\n",
       "      <th>14</th>\n",
       "      <td>Esty2</td>\n",
       "      <td>[rep1_GCTTGGGTCCATCTAT]</td>\n",
       "      <td>[rep2_TCAAGTGCATACTGTG]</td>\n",
       "      <td>[rep1_GCTTGGGTCCATCTAT, rep2_TCAAGTGCATACTGTG]</td>\n",
       "    </tr>\n",
       "    <tr>\n",
       "      <th>15</th>\n",
       "      <td>Etrim9</td>\n",
       "      <td>[rep1_AAAGGTAGTAATGATG, rep1_AAAGTCCAGTGCTCGC,...</td>\n",
       "      <td>[rep1_ACCATTTCATCGTGGC, rep1_GTCTAGAAGTAGAATC,...</td>\n",
       "      <td>[rep1_AAAGGTAGTAATGATG, rep1_AAAGTCCAGTGCTCGC,...</td>\n",
       "    </tr>\n",
       "    <tr>\n",
       "      <th>16</th>\n",
       "      <td>Ettk</td>\n",
       "      <td>[rep1_AGTAGTCGTTCAAGTC, rep1_CAGATCAAGCCACCGT,...</td>\n",
       "      <td>[]</td>\n",
       "      <td>[rep1_AGTAGTCGTTCAAGTC, rep1_CAGATCAAGCCACCGT,...</td>\n",
       "    </tr>\n",
       "    <tr>\n",
       "      <th>17</th>\n",
       "      <td>EtwiE3</td>\n",
       "      <td>[rep1_AAGTTCGAGACCAGAC, rep1_ACGGGTCTCCATCTCG,...</td>\n",
       "      <td>[rep1_GTTCCGTCATCCGTTC, rep1_AAGTTCGAGACCAGAC,...</td>\n",
       "      <td>[rep1_AAGTTCGAGACCAGAC, rep1_ACGGGTCTCCATCTCG,...</td>\n",
       "    </tr>\n",
       "    <tr>\n",
       "      <th>18</th>\n",
       "      <td>Eveil</td>\n",
       "      <td>[rep1_GTGCGTGTCAGACCCG, rep1_TAGGTACCAGCTGGTC,...</td>\n",
       "      <td>[]</td>\n",
       "      <td>[rep1_GTGCGTGTCAGACCCG, rep1_TAGGTACCAGCTGGTC,...</td>\n",
       "    </tr>\n",
       "    <tr>\n",
       "      <th>19</th>\n",
       "      <td>Evn</td>\n",
       "      <td>[rep1_ATCTCTAGTGGTACAG, rep1_ATGGAGGTCGACATAC,...</td>\n",
       "      <td>[rep1_TCGCTCACAGCAGTCC, rep1_TTCTTCCTCATTTCCA,...</td>\n",
       "      <td>[rep1_ATCTCTAGTGGTACAG, rep1_ATGGAGGTCGACATAC,...</td>\n",
       "    </tr>\n",
       "    <tr>\n",
       "      <th>20</th>\n",
       "      <td>Evnd743</td>\n",
       "      <td>[rep1_ACCTGTCCAATCTGCA, rep1_AGCCAGCAGAGCTTTC,...</td>\n",
       "      <td>[]</td>\n",
       "      <td>[rep1_ACCTGTCCAATCTGCA, rep1_AGCCAGCAGAGCTTTC,...</td>\n",
       "    </tr>\n",
       "    <tr>\n",
       "      <th>21</th>\n",
       "      <td>EZip71B</td>\n",
       "      <td>[rep1_CATCGTCCACTCGATA, rep1_CTGTAGAAGTTGAAAC,...</td>\n",
       "      <td>[rep3_GGTTCTCCAACTGTGT]</td>\n",
       "      <td>[rep1_CATCGTCCACTCGATA, rep1_CTGTAGAAGTTGAAAC,...</td>\n",
       "    </tr>\n",
       "    <tr>\n",
       "      <th>22</th>\n",
       "      <td>EeveS2</td>\n",
       "      <td>[]</td>\n",
       "      <td>[rep2_CATACCCGTTGCTCCT, rep3_GGGACCTAGACATATG]</td>\n",
       "      <td>[rep2_CATACCCGTTGCTCCT, rep3_GGGACCTAGACATATG]</td>\n",
       "    </tr>\n",
       "  </tbody>\n",
       "</table>\n",
       "</div>"
      ],
      "text/plain": [
       "     enhancer                                       list_cells_x  \\\n",
       "0       EcadN  [rep1_CAAGAGGCACCCGTAG, rep1_TTGAGTGCAATCTAGC,...   \n",
       "1        Eeve  [rep1_GAATCGTAGATGGCAC, rep2_CAGGCCAAGTCTGCGC,...   \n",
       "2   Ehstripe1  [rep2_CAGATTGTCTAGTTCT, rep2_CTCCTCCAGCCGAACA,...   \n",
       "3      EImpL2  [rep1_CCCTGATGTTGACTGT, rep1_CTCAAGAAGAGATCGC,...   \n",
       "4        Eopa  [rep1_AACCTTTCATCAGCAT, rep1_AAGAACATCCGTGACG,...   \n",
       "5        Eotp                            [rep3_TGGGCTGGTGCGGATA]   \n",
       "6      Eprd01  [rep1_AAAGTCCAGTGCTCGC, rep1_TCTCCGATCCATAAGC,...   \n",
       "7       Epvf3  [rep1_ACATCGATCTCCCTAG, rep1_CCACGAGAGTAGACCG,...   \n",
       "8        Erib  [rep1_ACACGCGGTCCGGACT, rep3_CCTCCTCAGATTGCGG,...   \n",
       "9       Esalm  [rep1_AACAGGGGTAGGAGGG, rep1_AAGTTCGGTGCCTGCA,...   \n",
       "10       Esca  [rep1_AGAACCTAGATCGACG, rep1_ATCCACCTCCAGCAAT,...   \n",
       "11       Eshg  [rep1_ACACGCGAGTGAATAC, rep1_ACCCTTGCACTCCGGA,...   \n",
       "12      ESoxN  [rep1_CACTGAACAGGAGGTT, rep1_GTCTCACGTATATGGA,...   \n",
       "13       Esty  [rep1_ACACAGTTCTACGGGC, rep1_AGTGATCGTACTCGAT,...   \n",
       "14      Esty2                            [rep1_GCTTGGGTCCATCTAT]   \n",
       "15     Etrim9  [rep1_AAAGGTAGTAATGATG, rep1_AAAGTCCAGTGCTCGC,...   \n",
       "16       Ettk  [rep1_AGTAGTCGTTCAAGTC, rep1_CAGATCAAGCCACCGT,...   \n",
       "17     EtwiE3  [rep1_AAGTTCGAGACCAGAC, rep1_ACGGGTCTCCATCTCG,...   \n",
       "18      Eveil  [rep1_GTGCGTGTCAGACCCG, rep1_TAGGTACCAGCTGGTC,...   \n",
       "19        Evn  [rep1_ATCTCTAGTGGTACAG, rep1_ATGGAGGTCGACATAC,...   \n",
       "20    Evnd743  [rep1_ACCTGTCCAATCTGCA, rep1_AGCCAGCAGAGCTTTC,...   \n",
       "21    EZip71B  [rep1_CATCGTCCACTCGATA, rep1_CTGTAGAAGTTGAAAC,...   \n",
       "22     EeveS2                                                 []   \n",
       "\n",
       "                                         list_cells_y  \\\n",
       "0                                                  []   \n",
       "1   [rep1_ACATCGATCTCCCTAG, rep1_TTCACCGGTCCACAGC,...   \n",
       "2   [rep2_AAGTGAAAGACCGCCT, rep3_CTTCTAAAGACGCAGT,...   \n",
       "3   [rep1_CCCTGATGTTGACTGT, rep1_TGCGACGAGTCACACT,...   \n",
       "4   [rep1_ATCATTCAGCATCCTA, rep1_TCTACCGCACTAACCA,...   \n",
       "5      [rep3_GTGTTCCTCGCCATAA, rep3_GTTACCCAGGGCAACT]   \n",
       "6   [rep1_TCTCCGATCCATAAGC, rep1_GGGCTCAAGGGCATGT,...   \n",
       "7   [rep1_TGATCAGCAAGACCGA, rep1_AGGATAAGTGTGTTTG,...   \n",
       "8                                                  []   \n",
       "9   [rep1_TATTCCAGTCAAGTTC, rep1_AACAGGGGTAGGAGGG,...   \n",
       "10  [rep1_ATTTACCGTGCTGATT, rep1_AGAACCTAGATCGACG,...   \n",
       "11  [rep1_ACACGCGAGTGAATAC, rep1_GATTCTTCAGACATCT,...   \n",
       "12  [rep1_TCAAGCACATAATGAG, rep1_ACCTGTCCAATCTGCA,...   \n",
       "13  [rep1_GGGAGTAAGGTCGTAG, rep1_ACACAGTTCTACGGGC,...   \n",
       "14                            [rep2_TCAAGTGCATACTGTG]   \n",
       "15  [rep1_ACCATTTCATCGTGGC, rep1_GTCTAGAAGTAGAATC,...   \n",
       "16                                                 []   \n",
       "17  [rep1_GTTCCGTCATCCGTTC, rep1_AAGTTCGAGACCAGAC,...   \n",
       "18                                                 []   \n",
       "19  [rep1_TCGCTCACAGCAGTCC, rep1_TTCTTCCTCATTTCCA,...   \n",
       "20                                                 []   \n",
       "21                            [rep3_GGTTCTCCAACTGTGT]   \n",
       "22     [rep2_CATACCCGTTGCTCCT, rep3_GGGACCTAGACATATG]   \n",
       "\n",
       "                                               merged  \n",
       "0   [rep1_CAAGAGGCACCCGTAG, rep1_TTGAGTGCAATCTAGC,...  \n",
       "1   [rep1_GAATCGTAGATGGCAC, rep2_CAGGCCAAGTCTGCGC,...  \n",
       "2   [rep2_CAGATTGTCTAGTTCT, rep2_CTCCTCCAGCCGAACA,...  \n",
       "3   [rep1_CCCTGATGTTGACTGT, rep1_CTCAAGAAGAGATCGC,...  \n",
       "4   [rep1_AACCTTTCATCAGCAT, rep1_AAGAACATCCGTGACG,...  \n",
       "5   [rep3_TGGGCTGGTGCGGATA, rep3_GTGTTCCTCGCCATAA,...  \n",
       "6   [rep1_AAAGTCCAGTGCTCGC, rep1_TCTCCGATCCATAAGC,...  \n",
       "7   [rep1_ACATCGATCTCCCTAG, rep1_CCACGAGAGTAGACCG,...  \n",
       "8   [rep1_ACACGCGGTCCGGACT, rep3_CCTCCTCAGATTGCGG,...  \n",
       "9   [rep1_AACAGGGGTAGGAGGG, rep1_AAGTTCGGTGCCTGCA,...  \n",
       "10  [rep1_AGAACCTAGATCGACG, rep1_ATCCACCTCCAGCAAT,...  \n",
       "11  [rep1_ACACGCGAGTGAATAC, rep1_ACCCTTGCACTCCGGA,...  \n",
       "12  [rep1_CACTGAACAGGAGGTT, rep1_GTCTCACGTATATGGA,...  \n",
       "13  [rep1_ACACAGTTCTACGGGC, rep1_AGTGATCGTACTCGAT,...  \n",
       "14     [rep1_GCTTGGGTCCATCTAT, rep2_TCAAGTGCATACTGTG]  \n",
       "15  [rep1_AAAGGTAGTAATGATG, rep1_AAAGTCCAGTGCTCGC,...  \n",
       "16  [rep1_AGTAGTCGTTCAAGTC, rep1_CAGATCAAGCCACCGT,...  \n",
       "17  [rep1_AAGTTCGAGACCAGAC, rep1_ACGGGTCTCCATCTCG,...  \n",
       "18  [rep1_GTGCGTGTCAGACCCG, rep1_TAGGTACCAGCTGGTC,...  \n",
       "19  [rep1_ATCTCTAGTGGTACAG, rep1_ATGGAGGTCGACATAC,...  \n",
       "20  [rep1_ACCTGTCCAATCTGCA, rep1_AGCCAGCAGAGCTTTC,...  \n",
       "21  [rep1_CATCGTCCACTCGATA, rep1_CTGTAGAAGTTGAAAC,...  \n",
       "22     [rep2_CATACCCGTTGCTCCT, rep3_GGGACCTAGACATATG]  "
      ]
     },
     "execution_count": 24,
     "metadata": {},
     "output_type": "execute_result"
    }
   ],
   "source": [
    "merged_cells=[]\n",
    "for enhancer in df_list_sc_pcr_merged[\"enhancer\"].tolist():\n",
    "    all_cells=(df_list_sc_pcr_merged[\"list_cells_x\"][df_list_sc_pcr_merged[\"enhancer\"]==enhancer]+df_list_sc_pcr_merged[\"list_cells_y\"][df_list_sc_pcr_merged[\"enhancer\"]==enhancer]).values[0]\n",
    "    all_cells = list(dict.fromkeys(all_cells))\n",
    "    merged_cells.append(all_cells)\n",
    "df_list_sc_pcr_merged['merged'] = merged_cells\n",
    "df_list_sc_pcr_merged"
   ]
  },
  {
   "cell_type": "markdown",
   "id": "5280d4fd-0a64-49f3-9677-d238653a6663",
   "metadata": {},
   "source": [
    "# Final plots with both info for each enhancer"
   ]
  },
  {
   "cell_type": "code",
   "execution_count": 40,
   "id": "b98a3cb0-05ac-4502-ab69-12ec22011463",
   "metadata": {},
   "outputs": [
    {
     "name": "stdout",
     "output_type": "stream",
     "text": [
      "55\n"
     ]
    }
   ],
   "source": [
    "elem=\"Esalm\"\n",
    "list_cell_elem=(df_list_sc_pcr_merged[\"merged\"][df_list_sc_pcr_merged[\"enhancer\"]==elem].values)[0]\n",
    "index_cell_elem=find_index(dataset,list_cell_elem)\n",
    "print(len(index_cell_elem))\n",
    "dataset_test_elem=prob_distributions(tissue,dataset_reconst,index_cell_elem)\n",
    "embedding_3D_plotly(dataset_test_elem,[\"sum\"],PCR_mode=True,threshold=0,screenshot=True,title_fig=\"Esalm sc & PCR\")"
   ]
  },
  {
   "cell_type": "code",
   "execution_count": 26,
   "id": "08d65cb1-75eb-44dd-9952-bd9b875aee83",
   "metadata": {},
   "outputs": [],
   "source": [
    "for elem in df_list_sc_pcr_merged[\"enhancer\"].tolist():\n",
    "    list_cell_elem=(df_list_sc_pcr_merged[\"merged\"][df_list_sc_pcr_merged[\"enhancer\"]==elem].values)[0]\n",
    "    index_cell_elem=find_index(dataset,list_cell_elem)\n",
    "    dataset_test_elem=prob_distributions(tissue,dataset_reconst,index_cell_elem)\n",
    "    embedding_3D_plotly(dataset_test_elem,[\"sum\"],title_fig=elem+\"merged\",screenshot=True,PCR_mode=True,threshold=0,pal=\"hot\")"
   ]
  },
  {
   "cell_type": "markdown",
   "id": "1ea86ec7-5083-46dc-800e-167db9373fa5",
   "metadata": {},
   "source": [
    "# Plotting the regions where each clusters can be found from the scRNA-seq data"
   ]
  },
  {
   "cell_type": "code",
   "execution_count": 28,
   "id": "255b90c1-5273-4d68-bffb-bdfac17441d1",
   "metadata": {},
   "outputs": [],
   "source": [
    "df_list_cells_per_clusters=pandas.read_csv(\"../R_analyses/stade6/phase5_final_time/Id_cells_per_clusters_reduced_no_label.csv\",sep=\",\")"
   ]
  },
  {
   "cell_type": "code",
   "execution_count": 29,
   "id": "67a2a33a-6a11-49cf-a116-07361e187591",
   "metadata": {},
   "outputs": [],
   "source": [
    "new_df_clusters=pandas.DataFrame(columns=['cluster','sc_cells'])\n",
    "for clust in df_list_cells_per_clusters[\"cluster\"].tolist():\n",
    "    ligne=df_list_cells_per_clusters[df_list_cells_per_clusters[\"cluster\"]==clust]\n",
    "    list_cell_elem=(ligne[\"sc_cells\"].values)[0]\n",
    "    split_list=list_cell_elem.split(\",\")\n",
    "    new_df_clusters.loc[len(new_df_clusters)]=[clust,split_list]"
   ]
  },
  {
   "cell_type": "code",
   "execution_count": 30,
   "id": "882e1a3c-cecf-49d3-8c0b-157c79a91310",
   "metadata": {},
   "outputs": [],
   "source": [
    "for clust in new_df_clusters[\"cluster\"].tolist():\n",
    "    list_cell_elem=(new_df_clusters[\"sc_cells\"][new_df_clusters[\"cluster\"]==clust].values)[0]\n",
    "    index_cell_elem=find_index(dataset,list_cell_elem)\n",
    "    dataset_test_elem=prob_distributions(tissue,dataset_reconst,index_cell_elem)\n",
    "    embedding_3D_plotly(dataset_test_elem,[\"sum\"],title_fig=clust,screenshot=True,PCR_mode=True,threshold=0,pal=\"inferno\")"
   ]
  },
  {
   "cell_type": "code",
   "execution_count": null,
   "id": "de89f198-10d1-4737-a467-b2e5828162fa",
   "metadata": {},
   "outputs": [],
   "source": []
  }
 ],
 "metadata": {
  "kernelspec": {
   "display_name": "Python 3 (ipykernel)",
   "language": "python",
   "name": "python3"
  },
  "language_info": {
   "codemirror_mode": {
    "name": "ipython",
    "version": 3
   },
   "file_extension": ".py",
   "mimetype": "text/x-python",
   "name": "python",
   "nbconvert_exporter": "python",
   "pygments_lexer": "ipython3",
   "version": "3.10.13"
  }
 },
 "nbformat": 4,
 "nbformat_minor": 5
}
