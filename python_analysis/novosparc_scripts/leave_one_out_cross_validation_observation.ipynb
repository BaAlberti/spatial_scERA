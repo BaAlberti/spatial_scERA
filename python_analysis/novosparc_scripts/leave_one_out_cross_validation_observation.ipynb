{
 "cells": [
  {
   "cell_type": "code",
   "execution_count": null,
   "id": "0afeee6e-0a6b-479c-86cf-c9a03569780e",
   "metadata": {},
   "outputs": [],
   "source": []
  },
  {
   "cell_type": "code",
   "execution_count": 1,
   "id": "055cf91e-8544-41b6-93ec-d34f7ba76279",
   "metadata": {},
   "outputs": [],
   "source": [
    "# imports\n",
    "%matplotlib inline\n",
    "\n",
    "import novosparc\n",
    "\n",
    "import os\n",
    "import cv2\n",
    "import numpy as np\n",
    "import pandas as pd\n",
    "import pandas.plotting\n",
    "import scanpy as sc\n",
    "import plotly.express as px\n",
    "import plotly.graph_objs as go\n",
    "from plotly.subplots import make_subplots\n",
    "import matplotlib.pyplot as plt\n",
    "import seaborn as sns\n",
    "import matplotlib.colors\n",
    "from matplotlib.animation import FuncAnimation\n",
    "import altair as alt\n",
    "from scipy.spatial.distance import cdist, squareform, pdist\n",
    "from scipy.stats import ks_2samp\n",
    "from scipy.stats import pearsonr\n",
    "from ipywidgets import interact, HBox, VBox, Output\n",
    "import kaleido\n",
    "\n",
    "import copy\n",
    "\n",
    "from ot.bregman import sinkhorn\n",
    "import scipy.stats as stats\n",
    "from sklearn.neighbors import kneighbors_graph\n",
    "\n",
    "import random\n",
    "random.seed(0)"
   ]
  },
  {
   "cell_type": "markdown",
   "id": "8507814b-0b7a-4e59-bc21-3fa8afe03fab",
   "metadata": {},
   "source": [
    "# Reconstruction leave one out"
   ]
  },
  {
   "cell_type": "code",
   "execution_count": 5,
   "id": "eb990d93-c9c2-48e0-bdb1-547f628e0dfa",
   "metadata": {
    "scrolled": true
   },
   "outputs": [
    {
     "name": "stdout",
     "output_type": "stream",
     "text": [
      "[[-194.04    0.22   30.2 ]\n",
      " [-203.32    1.93   20.08]\n",
      " [-200.25    3.59   23.93]\n",
      " ...\n",
      " [-118.4    33.4   -48.86]\n",
      " [ -20.05    3.22  -78.11]\n",
      " [  -0.25   21.24   63.68]]\n",
      "3039\n"
     ]
    }
   ],
   "source": [
    "atlas_dir = '../../novosparc/novosparc/datasets/bdtnp/'\n",
    "target_space_path = os.path.join(atlas_dir, 'geometry.txt') # le fichier contient les coordonnées de 6078 points selon x, y et z\n",
    "locations = pd.read_csv(target_space_path, sep=' ')\n",
    "num_locations = 3039 # Dans notre cas on ne veut conserver que 3039 locations\n",
    "locations_apriori = locations[:num_locations][['xcoord', 'ycoord', 'zcoord']].values # On ne va donc récupérer que les 3039 premières locations et selon les 3 dimensions"
   ]
  },
  {
   "cell_type": "code",
   "execution_count": 6,
   "id": "6e6e2ab9-43ae-4eac-ab8a-ed1a9d3c7ac6",
   "metadata": {},
   "outputs": [],
   "source": [
    "atlas_path = os.path.join(atlas_dir, 'dge.txt')\n",
    "atlas = sc.read(atlas_path) # Récupération de l'atlas avec 3039 gènes\n",
    "atlas.obsm['spatial'] = locations_apriori"
   ]
  },
  {
   "cell_type": "code",
   "execution_count": 7,
   "id": "11c4751f-017e-4a17-ac5f-5932d3730730",
   "metadata": {},
   "outputs": [],
   "source": [
    "inter=list(set(dataset.var_names).intersection(atlas.var_names))\n",
    "subatlas=atlas[:,inter]\n",
    "atlas_genes = subatlas.var.index.tolist()"
   ]
  },
  {
   "cell_type": "code",
   "execution_count": 54,
   "id": "252846f4-916f-4324-882b-7fb86f464366",
   "metadata": {},
   "outputs": [
    {
     "data": {
      "text/plain": [
       "View of AnnData object with n_obs × n_vars = 3039 × 83\n",
       "    obsm: 'spatial'"
      ]
     },
     "execution_count": 54,
     "metadata": {},
     "output_type": "execute_result"
    }
   ],
   "source": [
    "inter=list(set(dataset.var_names).intersection(atlas.var_names))\n",
    "subatlas=atlas[:,inter]\n",
    "atlas_genes = subatlas.var.index.tolist()\n",
    "atlas_genes.remove(\"cad\")\n",
    "atlas_reduced=subatlas[:,atlas_genes]\n",
    "atlas_reduced"
   ]
  },
  {
   "cell_type": "code",
   "execution_count": 55,
   "id": "bccb8f22-0a2b-4445-8896-06100d2367e3",
   "metadata": {},
   "outputs": [
    {
     "name": "stdout",
     "output_type": "stream",
     "text": [
      "Setting up for reconstruction ... done ( 14.17 seconds )\n",
      "Reconstructing spatial information with 83 markers: 5475 cells and 3039 locations ... \n",
      "Trying with epsilon: 5.00e-03\n"
     ]
    },
    {
     "name": "stderr",
     "output_type": "stream",
     "text": [
      "/home/baptiste/miniconda3/envs/novopaper/lib/python3.10/site-packages/anndata/_core/anndata.py:183: ImplicitModificationWarning:\n",
      "\n",
      "Transforming to str index.\n",
      "\n"
     ]
    }
   ],
   "source": [
    "tissue = novosparc.cm.Tissue(dataset=dataset, locations=locations_apriori)\n",
    "\n",
    "num_neighbors_s = 3\n",
    "num_neighbors_t = 5\n",
    "markers = list(set(atlas_genes).intersection(gene_names))\n",
    "atlas_matrix = atlas_reduced.to_df()[markers].values\n",
    "markers_idx = pd.DataFrame({'markers_idx': np.arange(num_genes)}, index=gene_names)\n",
    "markers_to_use = np.concatenate(markers_idx.loc[markers].values)\n",
    "tissue.setup_reconstruction(atlas_matrix=atlas_matrix, \n",
    "                            markers_to_use=markers_to_use, \n",
    "                            num_neighbors_s=num_neighbors_s, \n",
    "                            num_neighbors_t=num_neighbors_t)\n",
    "\n",
    "alpha_linear = 0.35\n",
    "epsilon = 5e-3\n",
    "tissue.reconstruct(alpha_linear=alpha_linear, epsilon=epsilon)\n",
    "sdge = tissue.sdge \n",
    "dataset_reconst_minus_one = sc.AnnData(pd.DataFrame(sdge.T, columns=gene_names))\n",
    "dataset_reconst_minus_one.obsm['spatial'] = locations_apriori"
   ]
  },
  {
   "cell_type": "code",
   "execution_count": 56,
   "id": "d307d0ec-8516-4c3b-8b83-d3903541ac08",
   "metadata": {},
   "outputs": [],
   "source": [
    "embedding_3D_plotly(dataset_reconst_minus_one,[\"cad\"],threshold=0,pal=\"inferno\",screenshot=True,title_fig=\"cad_reconst\")"
   ]
  },
  {
   "cell_type": "code",
   "execution_count": 58,
   "id": "372407ca-94ec-46a5-9a3e-29b9d946d0df",
   "metadata": {},
   "outputs": [],
   "source": [
    "embedding_3D_plotly(atlas,[\"cad\"],threshold=0,pal=\"ice\",screenshot=True,title_fig=\"cad_atlas\")"
   ]
  }
 ],
 "metadata": {
  "kernelspec": {
   "display_name": "Python 3 (ipykernel)",
   "language": "python",
   "name": "python3"
  },
  "language_info": {
   "codemirror_mode": {
    "name": "ipython",
    "version": 3
   },
   "file_extension": ".py",
   "mimetype": "text/x-python",
   "name": "python",
   "nbconvert_exporter": "python",
   "pygments_lexer": "ipython3",
   "version": "3.10.13"
  }
 },
 "nbformat": 4,
 "nbformat_minor": 5
}
